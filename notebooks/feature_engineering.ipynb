{
 "cells": [
  {
   "cell_type": "code",
   "execution_count": 17,
   "metadata": {},
   "outputs": [],
   "source": [
    "# Data\n",
    "import polars as pl\n",
    "import numpy as np\n",
    "\n",
    "# ML\n",
    "from catboost import CatBoostClassifier, Pool\n",
    "from sklearn.model_selection import StratifiedKFold\n",
    "from sklearn.metrics import roc_auc_score\n",
    "\n",
    "# Some tools\n",
    "from pathlib import Path\n",
    "from tqdm.notebook import tqdm"
   ]
  },
  {
   "cell_type": "markdown",
   "metadata": {},
   "source": [
    "# Data 🤹‍♀️"
   ]
  },
  {
   "cell_type": "markdown",
   "metadata": {},
   "source": [
    "## Load ur data 📦"
   ]
  },
  {
   "cell_type": "code",
   "execution_count": 2,
   "metadata": {},
   "outputs": [],
   "source": [
    "folder_path = Path('../data/')"
   ]
  },
  {
   "cell_type": "code",
   "execution_count": 26,
   "metadata": {},
   "outputs": [],
   "source": [
    "train_df = pl.read_csv(folder_path / 'concated.csv')\n",
    "sample_df = pl.read_csv(folder_path / 'sample_submission.csv')\n",
    "test_df = pl.read_csv(folder_path / 'test.csv').drop('id')"
   ]
  },
  {
   "cell_type": "code",
   "execution_count": 28,
   "metadata": {},
   "outputs": [
    {
     "data": {
      "text/plain": [
       "(91061, 12)"
      ]
     },
     "execution_count": 28,
     "metadata": {},
     "output_type": "execute_result"
    }
   ],
   "source": [
    "train_df.shape"
   ]
  },
  {
   "cell_type": "markdown",
   "metadata": {},
   "source": [
    "## Feature Engineering ⚡️"
   ]
  },
  {
   "cell_type": "markdown",
   "metadata": {},
   "source": [
    "### Try already done features 🤓 "
   ]
  },
  {
   "cell_type": "code",
   "execution_count": 30,
   "metadata": {},
   "outputs": [
    {
     "data": {
      "text/plain": [
       "person_income                -0.152274\n",
       "person_emp_length            -0.091844\n",
       "person_age                   -0.008374\n",
       "cb_person_cred_hist_length   -0.008339\n",
       "loan_amnt                     0.130557\n",
       "loan_int_rate                 0.340284\n",
       "loan_percent_income           0.381796\n",
       "loan_status                   1.000000\n",
       "Name: loan_status, dtype: float64"
      ]
     },
     "execution_count": 30,
     "metadata": {},
     "output_type": "execute_result"
    }
   ],
   "source": [
    "(\n",
    "    train_df.select(\n",
    "        pl.col(pl.Int64, pl.Float64)\n",
    "    ).to_pandas()\n",
    "    .corr()\n",
    "    ['loan_status'].sort_values()\n",
    ")"
   ]
  },
  {
   "cell_type": "code",
   "execution_count": 16,
   "metadata": {},
   "outputs": [],
   "source": [
    "feature_rate = train_df.with_columns(\n",
    "    (pl.col('loan_percent_income') / pl.col('person_income')).alias('loan_int_rate_per_persone_income')\n",
    ")"
   ]
  },
  {
   "cell_type": "code",
   "execution_count": null,
   "metadata": {},
   "outputs": [],
   "source": [
    "def preprocess(df):\n",
    "    df['loan_to_income'] = ((df['loan_amnt'] / df['person_income']) - df['loan_percent_income']).astype('string').astype('category')\n",
    "    df['age_income_interaction'] = (df['person_age'] * df['person_income']).astype('string').astype('category')\n",
    "    df['loan_to_emp_length_ratio'] = (df['loan_amnt'] / df['person_emp_length'].replace({'None': original['person_emp_length'].mean()}).astype('float')).astype('string').astype('category')\n",
    "    monthly_income = df['person_income'] / 12\n",
    "    df['monthly_debt'] = (df['loan_amnt'] * (1 + df['loan_int_rate'].replace({'None': original['loan_int_rate'].mean()})) / 12)\n",
    "    df['dti_ratio'] = (df['monthly_debt'] / monthly_income).astype('string').astype('category')\n",
    "    df['monthly_debt'] = df['monthly_debt'].astype('string').astype('category')\n",
    "    df['risk_flag'] = (np.where((df['cb_person_default_on_file'] == 'Y') & (df['loan_grade'].isin(['C', 'D', 'E'])), 1, 0))\n",
    "    df['risk_flag'] = df['risk_flag'].astype('category')\n",
    "    df['person_home_ownership'] = df['person_home_ownership'].astype('category')\n",
    "    df['loan_intent'] = df['loan_intent'].astype('category')\n",
    "    df['loan_grade'] = df['loan_grade'].astype('category')\n",
    "    df['cb_person_default_on_file'] = df['cb_person_default_on_file'].astype('category')\n",
    "    df['person_emp_length'] = df['person_emp_length'].astype('string').astype('category')\n",
    "    df['loan_int_rate'] = (df['loan_int_rate'] * 100).astype('string').astype('category')\n",
    "    df['loan_percent_income'] = (df['loan_percent_income'] * 100).astype('string').astype('category')"
   ]
  },
  {
   "cell_type": "code",
   "execution_count": 34,
   "metadata": {},
   "outputs": [
    {
     "data": {
      "text/html": [
       "<div><style>\n",
       ".dataframe > thead > tr,\n",
       ".dataframe > tbody > tr {\n",
       "  text-align: right;\n",
       "  white-space: pre-wrap;\n",
       "}\n",
       "</style>\n",
       "<small>shape: (91_061, 13)</small><table border=\"1\" class=\"dataframe\"><thead><tr><th>person_age</th><th>person_income</th><th>person_home_ownership</th><th>person_emp_length</th><th>loan_intent</th><th>loan_grade</th><th>loan_amnt</th><th>loan_int_rate</th><th>loan_status</th><th>loan_percent_income</th><th>cb_person_default_on_file</th><th>cb_person_cred_hist_length</th><th>loan_to_income</th></tr><tr><td>i64</td><td>i64</td><td>str</td><td>f64</td><td>str</td><td>str</td><td>i64</td><td>f64</td><td>i64</td><td>f64</td><td>str</td><td>i64</td><td>f64</td></tr></thead><tbody><tr><td>24</td><td>63000</td><td>&quot;MORTGAGE&quot;</td><td>7.0</td><td>&quot;VENTURE&quot;</td><td>&quot;B&quot;</td><td>6000</td><td>10.59</td><td>0</td><td>0.1</td><td>&quot;N&quot;</td><td>2</td><td>-0.004762</td></tr><tr><td>27</td><td>48000</td><td>&quot;MORTGAGE&quot;</td><td>4.0</td><td>&quot;VENTURE&quot;</td><td>&quot;A&quot;</td><td>6000</td><td>7.49</td><td>0</td><td>0.13</td><td>&quot;N&quot;</td><td>7</td><td>-0.005</td></tr><tr><td>35</td><td>60000</td><td>&quot;MORTGAGE&quot;</td><td>12.0</td><td>&quot;PERSONAL&quot;</td><td>&quot;B&quot;</td><td>7000</td><td>10.62</td><td>0</td><td>0.12</td><td>&quot;N&quot;</td><td>8</td><td>-0.003333</td></tr><tr><td>32</td><td>65000</td><td>&quot;OWN&quot;</td><td>3.0</td><td>&quot;EDUCATION&quot;</td><td>&quot;C&quot;</td><td>12000</td><td>13.35</td><td>0</td><td>0.18</td><td>&quot;N&quot;</td><td>10</td><td>0.004615</td></tr><tr><td>23</td><td>60000</td><td>&quot;MORTGAGE&quot;</td><td>1.0</td><td>&quot;MEDICAL&quot;</td><td>&quot;A&quot;</td><td>10000</td><td>8.49</td><td>0</td><td>0.17</td><td>&quot;N&quot;</td><td>2</td><td>-0.003333</td></tr><tr><td>&hellip;</td><td>&hellip;</td><td>&hellip;</td><td>&hellip;</td><td>&hellip;</td><td>&hellip;</td><td>&hellip;</td><td>&hellip;</td><td>&hellip;</td><td>&hellip;</td><td>&hellip;</td><td>&hellip;</td><td>&hellip;</td></tr><tr><td>23</td><td>31000</td><td>&quot;RENT&quot;</td><td>3.0</td><td>&quot;DEBTCONSOLIDATION&quot;</td><td>&quot;A&quot;</td><td>12000</td><td>7.29</td><td>1</td><td>0.39</td><td>&quot;N&quot;</td><td>3</td><td>-0.002903</td></tr><tr><td>35</td><td>70000</td><td>&quot;MORTGAGE&quot;</td><td>16.0</td><td>&quot;HOMEIMPROVEMENT&quot;</td><td>&quot;A&quot;</td><td>6000</td><td>5.42</td><td>0</td><td>0.09</td><td>&quot;N&quot;</td><td>10</td><td>-0.004286</td></tr><tr><td>21</td><td>51996</td><td>&quot;MORTGAGE&quot;</td><td>5.0</td><td>&quot;EDUCATION&quot;</td><td>&quot;B&quot;</td><td>6000</td><td>10.62</td><td>0</td><td>0.12</td><td>&quot;N&quot;</td><td>3</td><td>-0.004607</td></tr><tr><td>30</td><td>70000</td><td>&quot;MORTGAGE&quot;</td><td>5.0</td><td>&quot;DEBTCONSOLIDATION&quot;</td><td>&quot;A&quot;</td><td>14000</td><td>7.88</td><td>0</td><td>0.19</td><td>&quot;N&quot;</td><td>5</td><td>0.01</td></tr><tr><td>29</td><td>56200</td><td>&quot;RENT&quot;</td><td>0.0</td><td>&quot;EDUCATION&quot;</td><td>&quot;E&quot;</td><td>7725</td><td>13.75</td><td>1</td><td>0.14</td><td>&quot;N&quot;</td><td>6</td><td>-0.002544</td></tr></tbody></table></div>"
      ],
      "text/plain": [
       "shape: (91_061, 13)\n",
       "┌───────────┬───────────┬───────────┬───────────┬───┬───────────┬───────────┬───────────┬──────────┐\n",
       "│ person_ag ┆ person_in ┆ person_ho ┆ person_em ┆ … ┆ loan_perc ┆ cb_person ┆ cb_person ┆ loan_to_ │\n",
       "│ e         ┆ come      ┆ me_owners ┆ p_length  ┆   ┆ ent_incom ┆ _default_ ┆ _cred_his ┆ income   │\n",
       "│ ---       ┆ ---       ┆ hip       ┆ ---       ┆   ┆ e         ┆ on_file   ┆ t_length  ┆ ---      │\n",
       "│ i64       ┆ i64       ┆ ---       ┆ f64       ┆   ┆ ---       ┆ ---       ┆ ---       ┆ f64      │\n",
       "│           ┆           ┆ str       ┆           ┆   ┆ f64       ┆ str       ┆ i64       ┆          │\n",
       "╞═══════════╪═══════════╪═══════════╪═══════════╪═══╪═══════════╪═══════════╪═══════════╪══════════╡\n",
       "│ 24        ┆ 63000     ┆ MORTGAGE  ┆ 7.0       ┆ … ┆ 0.1       ┆ N         ┆ 2         ┆ -0.00476 │\n",
       "│           ┆           ┆           ┆           ┆   ┆           ┆           ┆           ┆ 2        │\n",
       "│ 27        ┆ 48000     ┆ MORTGAGE  ┆ 4.0       ┆ … ┆ 0.13      ┆ N         ┆ 7         ┆ -0.005   │\n",
       "│ 35        ┆ 60000     ┆ MORTGAGE  ┆ 12.0      ┆ … ┆ 0.12      ┆ N         ┆ 8         ┆ -0.00333 │\n",
       "│           ┆           ┆           ┆           ┆   ┆           ┆           ┆           ┆ 3        │\n",
       "│ 32        ┆ 65000     ┆ OWN       ┆ 3.0       ┆ … ┆ 0.18      ┆ N         ┆ 10        ┆ 0.004615 │\n",
       "│ 23        ┆ 60000     ┆ MORTGAGE  ┆ 1.0       ┆ … ┆ 0.17      ┆ N         ┆ 2         ┆ -0.00333 │\n",
       "│           ┆           ┆           ┆           ┆   ┆           ┆           ┆           ┆ 3        │\n",
       "│ …         ┆ …         ┆ …         ┆ …         ┆ … ┆ …         ┆ …         ┆ …         ┆ …        │\n",
       "│ 23        ┆ 31000     ┆ RENT      ┆ 3.0       ┆ … ┆ 0.39      ┆ N         ┆ 3         ┆ -0.00290 │\n",
       "│           ┆           ┆           ┆           ┆   ┆           ┆           ┆           ┆ 3        │\n",
       "│ 35        ┆ 70000     ┆ MORTGAGE  ┆ 16.0      ┆ … ┆ 0.09      ┆ N         ┆ 10        ┆ -0.00428 │\n",
       "│           ┆           ┆           ┆           ┆   ┆           ┆           ┆           ┆ 6        │\n",
       "│ 21        ┆ 51996     ┆ MORTGAGE  ┆ 5.0       ┆ … ┆ 0.12      ┆ N         ┆ 3         ┆ -0.00460 │\n",
       "│           ┆           ┆           ┆           ┆   ┆           ┆           ┆           ┆ 7        │\n",
       "│ 30        ┆ 70000     ┆ MORTGAGE  ┆ 5.0       ┆ … ┆ 0.19      ┆ N         ┆ 5         ┆ 0.01     │\n",
       "│ 29        ┆ 56200     ┆ RENT      ┆ 0.0       ┆ … ┆ 0.14      ┆ N         ┆ 6         ┆ -0.00254 │\n",
       "│           ┆           ┆           ┆           ┆   ┆           ┆           ┆           ┆ 4        │\n",
       "└───────────┴───────────┴───────────┴───────────┴───┴───────────┴───────────┴───────────┴──────────┘"
      ]
     },
     "execution_count": 34,
     "metadata": {},
     "output_type": "execute_result"
    }
   ],
   "source": [
    "train_df.with_columns(\n",
    "    (pl.col('loan_amnt') / pl.col('person_income') - pl.col('loan_percent_income')).alias('loan_to_income'),\n",
    "    (pl.col(''))\n",
    ")"
   ]
  },
  {
   "cell_type": "code",
   "execution_count": 35,
   "metadata": {},
   "outputs": [],
   "source": [
    "def calculate_corr(df: pl.DataFrame):\n",
    "    return (\n",
    "        df.select(\n",
    "            pl.col(pl.Int64, pl.Float64)\n",
    "        ).to_pandas()\n",
    "        .corr()\n",
    "        ['loan_status'].sort_values()\n",
    "    )"
   ]
  },
  {
   "cell_type": "code",
   "execution_count": 36,
   "metadata": {},
   "outputs": [
    {
     "data": {
      "text/plain": [
       "person_income                -0.152274\n",
       "person_emp_length            -0.091844\n",
       "person_age                   -0.008374\n",
       "cb_person_cred_hist_length   -0.008339\n",
       "loan_amnt                     0.130557\n",
       "loan_int_rate                 0.340284\n",
       "loan_percent_income           0.381796\n",
       "loan_status                   1.000000\n",
       "Name: loan_status, dtype: float64"
      ]
     },
     "execution_count": 36,
     "metadata": {},
     "output_type": "execute_result"
    }
   ],
   "source": [
    "calculate_corr(train_df)"
   ]
  },
  {
   "cell_type": "markdown",
   "metadata": {},
   "source": [
    "## Test ur code 🤖"
   ]
  },
  {
   "cell_type": "code",
   "execution_count": 37,
   "metadata": {},
   "outputs": [],
   "source": [
    "def calc_metrics(dataset: pl.DataFrame, cv=StratifiedKFold(), get_artifacts=False):\n",
    "    models_list = []\n",
    "    metrics_list = []\n",
    "\n",
    "    X = dataset.drop('loan_status')\n",
    "    y = dataset.select('loan_status')\n",
    "\n",
    "    cat_features = X.select(pl.col(pl.String)).columns\n",
    "\n",
    "    pbar = tqdm(cv.split(X, y), total=cv.get_n_splits())\n",
    "    for train_idx, test_idx, in pbar:\n",
    "        X_train, X_test = X[train_idx], X[test_idx]\n",
    "        y_train, y_test = y[train_idx], y[test_idx]\n",
    "\n",
    "        train_pool = Pool(X_train.to_pandas(), y_train.to_pandas(), cat_features=cat_features)\n",
    "        test_pool = Pool(X_test.to_pandas(), y_test.to_pandas(), cat_features=cat_features)\n",
    "\n",
    "        model = CatBoostClassifier(\n",
    "            iterations=5000, \n",
    "            learning_rate=0.05,\n",
    "            eval_metric='AUC',\n",
    "            loss_function='Logloss',\n",
    "            random_seed=2024\n",
    "        )\n",
    "\n",
    "        model.fit(\n",
    "            train_pool, \n",
    "            eval_set=test_pool,\n",
    "            early_stopping_rounds=150,\n",
    "            verbose=500\n",
    "        )\n",
    "\n",
    "        y_pred = model.predict_proba(X_test.to_pandas())[:, 1]\n",
    "        score = roc_auc_score(y_test, y_pred)\n",
    "        pbar.set_description(f'ROC-AUC: {score:.4f}')\n",
    "\n",
    "        models_list.append(model)\n",
    "        metrics_list.append(score)\n",
    "\n",
    "    print(f'All metrics: {metrics_list}')\n",
    "    print(f'Mean ROC-AUC: {np.mean(metrics_list) - np.std(metrics_list)}')\n",
    "\n",
    "    if get_artifacts:\n",
    "        return models_list, metrics_list"
   ]
  },
  {
   "cell_type": "code",
   "execution_count": 39,
   "metadata": {},
   "outputs": [
    {
     "data": {
      "application/vnd.jupyter.widget-view+json": {
       "model_id": "8d65e08b8f7e4df6917d01dc116b1fcb",
       "version_major": 2,
       "version_minor": 0
      },
      "text/plain": [
       "  0%|          | 0/5 [00:00<?, ?it/s]"
      ]
     },
     "metadata": {},
     "output_type": "display_data"
    },
    {
     "name": "stdout",
     "output_type": "stream",
     "text": [
      "0:\ttest: 0.8703650\tbest: 0.8703650 (0)\ttotal: 53.6ms\tremaining: 4m 28s\n",
      "500:\ttest: 0.9519618\tbest: 0.9519618 (500)\ttotal: 14.4s\tremaining: 2m 9s\n",
      "1000:\ttest: 0.9569534\tbest: 0.9569634 (999)\ttotal: 29s\tremaining: 1m 55s\n",
      "1500:\ttest: 0.9589227\tbest: 0.9589415 (1496)\ttotal: 43.7s\tremaining: 1m 41s\n",
      "2000:\ttest: 0.9598012\tbest: 0.9598145 (1975)\ttotal: 58.6s\tremaining: 1m 27s\n",
      "2500:\ttest: 0.9603269\tbest: 0.9603301 (2485)\ttotal: 1m 13s\tremaining: 1m 13s\n",
      "Stopped by overfitting detector  (150 iterations wait)\n",
      "\n",
      "bestTest = 0.9603715368\n",
      "bestIteration = 2583\n",
      "\n",
      "Shrink model to first 2584 iterations.\n",
      "0:\ttest: 0.8724718\tbest: 0.8724718 (0)\ttotal: 41.1ms\tremaining: 3m 25s\n",
      "500:\ttest: 0.9523284\tbest: 0.9523284 (500)\ttotal: 13.9s\tremaining: 2m 5s\n",
      "1000:\ttest: 0.9563957\tbest: 0.9563957 (1000)\ttotal: 28.3s\tremaining: 1m 52s\n",
      "1500:\ttest: 0.9580125\tbest: 0.9580214 (1496)\ttotal: 43.1s\tremaining: 1m 40s\n",
      "2000:\ttest: 0.9586863\tbest: 0.9587100 (1963)\ttotal: 58s\tremaining: 1m 26s\n",
      "2500:\ttest: 0.9590922\tbest: 0.9591212 (2448)\ttotal: 1m 13s\tremaining: 1m 13s\n",
      "Stopped by overfitting detector  (150 iterations wait)\n",
      "\n",
      "bestTest = 0.9591212416\n",
      "bestIteration = 2448\n",
      "\n",
      "Shrink model to first 2449 iterations.\n",
      "0:\ttest: 0.8611717\tbest: 0.8611717 (0)\ttotal: 50.2ms\tremaining: 4m 10s\n",
      "500:\ttest: 0.9506926\tbest: 0.9506926 (500)\ttotal: 13.5s\tremaining: 2m 1s\n",
      "1000:\ttest: 0.9545542\tbest: 0.9545596 (999)\ttotal: 27.9s\tremaining: 1m 51s\n",
      "1500:\ttest: 0.9559546\tbest: 0.9560169 (1476)\ttotal: 42.6s\tremaining: 1m 39s\n",
      "2000:\ttest: 0.9568601\tbest: 0.9568714 (1906)\ttotal: 57.6s\tremaining: 1m 26s\n",
      "2500:\ttest: 0.9571481\tbest: 0.9571521 (2494)\ttotal: 1m 13s\tremaining: 1m 13s\n",
      "Stopped by overfitting detector  (150 iterations wait)\n",
      "\n",
      "bestTest = 0.9571953029\n",
      "bestIteration = 2571\n",
      "\n",
      "Shrink model to first 2572 iterations.\n",
      "0:\ttest: 0.8576863\tbest: 0.8576863 (0)\ttotal: 47ms\tremaining: 3m 54s\n",
      "500:\ttest: 0.9516087\tbest: 0.9516087 (500)\ttotal: 13.7s\tremaining: 2m 3s\n",
      "1000:\ttest: 0.9558096\tbest: 0.9558096 (1000)\ttotal: 28s\tremaining: 1m 51s\n",
      "1500:\ttest: 0.9580605\tbest: 0.9580966 (1465)\ttotal: 42.5s\tremaining: 1m 39s\n",
      "2000:\ttest: 0.9596552\tbest: 0.9596552 (2000)\ttotal: 57.1s\tremaining: 1m 25s\n",
      "2500:\ttest: 0.9602579\tbest: 0.9602846 (2469)\ttotal: 1m 11s\tremaining: 1m 11s\n",
      "Stopped by overfitting detector  (150 iterations wait)\n",
      "\n",
      "bestTest = 0.9603565298\n",
      "bestIteration = 2644\n",
      "\n",
      "Shrink model to first 2645 iterations.\n",
      "0:\ttest: 0.8558480\tbest: 0.8558480 (0)\ttotal: 46.6ms\tremaining: 3m 52s\n",
      "500:\ttest: 0.9498079\tbest: 0.9498097 (499)\ttotal: 13.4s\tremaining: 2m\n",
      "1000:\ttest: 0.9538254\tbest: 0.9538351 (998)\ttotal: 27.4s\tremaining: 1m 49s\n",
      "1500:\ttest: 0.9553982\tbest: 0.9554131 (1485)\ttotal: 41.6s\tremaining: 1m 36s\n",
      "2000:\ttest: 0.9558873\tbest: 0.9558873 (2000)\ttotal: 55.9s\tremaining: 1m 23s\n",
      "2500:\ttest: 0.9560903\tbest: 0.9561633 (2436)\ttotal: 1m 10s\tremaining: 1m 10s\n",
      "Stopped by overfitting detector  (150 iterations wait)\n",
      "\n",
      "bestTest = 0.9561632902\n",
      "bestIteration = 2436\n",
      "\n",
      "Shrink model to first 2437 iterations.\n",
      "All metrics: [0.9603715368475142, 0.9591212415702212, 0.9571953029395682, 0.960356529802681, 0.9561632902034032]\n",
      "Mean ROC-AUC: 0.9569446703520649\n"
     ]
    }
   ],
   "source": [
    "models_list, metrics_list = calc_metrics(feature_rate, get_artifacts=True)"
   ]
  },
  {
   "cell_type": "markdown",
   "metadata": {},
   "source": [
    "# Predict"
   ]
  },
  {
   "cell_type": "code",
   "execution_count": 40,
   "metadata": {},
   "outputs": [
    {
     "data": {
      "text/plain": [
       "[0.20036091832660638,\n",
       " 0.20010007103956562,\n",
       " 0.19969826526141335,\n",
       " 0.20035778742864785,\n",
       " 0.19948295794376675]"
      ]
     },
     "execution_count": 40,
     "metadata": {},
     "output_type": "execute_result"
    }
   ],
   "source": [
    "weights = [weight / np.sum(metrics_list) for weight in metrics_list]\n",
    "weights"
   ]
  },
  {
   "cell_type": "code",
   "execution_count": 41,
   "metadata": {},
   "outputs": [],
   "source": [
    "y_subm = np.zeros(sample_df.shape[0])"
   ]
  },
  {
   "cell_type": "code",
   "execution_count": 43,
   "metadata": {},
   "outputs": [],
   "source": [
    "test_df = test_df.with_columns(\n",
    "    (pl.col('loan_percent_income') / pl.col('person_income')).alias('loan_int_rate_per_persone_income')\n",
    ")\n",
    "cat_features = test_df.select(pl.col(pl.String)).columns\n",
    "test_pool = Pool(test_df.to_pandas(), cat_features=cat_features)"
   ]
  },
  {
   "cell_type": "code",
   "execution_count": 44,
   "metadata": {},
   "outputs": [
    {
     "data": {
      "application/vnd.jupyter.widget-view+json": {
       "model_id": "d8d85bafb3b043b4a29abbc4570d489b",
       "version_major": 2,
       "version_minor": 0
      },
      "text/plain": [
       "  0%|          | 0/5 [00:00<?, ?it/s]"
      ]
     },
     "metadata": {},
     "output_type": "display_data"
    },
    {
     "data": {
      "text/plain": [
       "array([0.99983442, 0.04043389, 0.48940756, ..., 0.0076375 , 0.22591011,\n",
       "       0.97226121])"
      ]
     },
     "execution_count": 44,
     "metadata": {},
     "output_type": "execute_result"
    }
   ],
   "source": [
    "for model, weight in tqdm(zip(models_list, weights), total=len(weights)):\n",
    "    y_pred = model.predict_proba(test_pool)[:, 1] * weight\n",
    "    y_subm += y_pred\n",
    "y_subm"
   ]
  },
  {
   "cell_type": "code",
   "execution_count": 45,
   "metadata": {},
   "outputs": [],
   "source": [
    "sample_df = sample_df.with_columns(loan_status = y_subm)"
   ]
  },
  {
   "cell_type": "code",
   "execution_count": 46,
   "metadata": {},
   "outputs": [],
   "source": [
    "folder_save = Path('../subs')"
   ]
  },
  {
   "cell_type": "code",
   "execution_count": 47,
   "metadata": {},
   "outputs": [],
   "source": [
    "sample_df.write_csv(folder_save / 'cleared_dataset_weigted_predict.csv')"
   ]
  },
  {
   "cell_type": "code",
   "execution_count": null,
   "metadata": {},
   "outputs": [],
   "source": []
  }
 ],
 "metadata": {
  "kernelspec": {
   "display_name": "venv",
   "language": "python",
   "name": "python3"
  },
  "language_info": {
   "codemirror_mode": {
    "name": "ipython",
    "version": 3
   },
   "file_extension": ".py",
   "mimetype": "text/x-python",
   "name": "python",
   "nbconvert_exporter": "python",
   "pygments_lexer": "ipython3",
   "version": "3.11.8"
  }
 },
 "nbformat": 4,
 "nbformat_minor": 2
}
