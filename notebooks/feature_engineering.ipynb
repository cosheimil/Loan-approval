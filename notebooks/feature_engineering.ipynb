{
 "cells": [
  {
   "cell_type": "code",
   "execution_count": 2,
   "metadata": {},
   "outputs": [],
   "source": [
    "# Data\n",
    "import polars as pl\n",
    "import numpy as np\n",
    "import phik\n",
    "\n",
    "# ML\n",
    "from catboost import CatBoostClassifier, Pool\n",
    "from sklearn.model_selection import StratifiedKFold\n",
    "from sklearn.metrics import roc_auc_score\n",
    "\n",
    "# Some tools\n",
    "from pathlib import Path\n",
    "from tqdm.notebook import tqdm"
   ]
  },
  {
   "cell_type": "markdown",
   "metadata": {},
   "source": [
    "# Data 🤹‍♀️"
   ]
  },
  {
   "cell_type": "markdown",
   "metadata": {},
   "source": [
    "## Load ur data 📦"
   ]
  },
  {
   "cell_type": "code",
   "execution_count": 3,
   "metadata": {},
   "outputs": [],
   "source": [
    "folder_path = Path('../data/')"
   ]
  },
  {
   "cell_type": "code",
   "execution_count": 4,
   "metadata": {},
   "outputs": [],
   "source": [
    "train_df = pl.read_csv(folder_path / 'concated.csv')\n",
    "sample_df = pl.read_csv(folder_path / 'sample_submission.csv')\n",
    "test_df = pl.read_csv(folder_path / 'test.csv').drop('id')"
   ]
  },
  {
   "cell_type": "code",
   "execution_count": 5,
   "metadata": {},
   "outputs": [
    {
     "data": {
      "text/plain": [
       "(91061, 12)"
      ]
     },
     "execution_count": 5,
     "metadata": {},
     "output_type": "execute_result"
    }
   ],
   "source": [
    "train_df.shape"
   ]
  },
  {
   "cell_type": "code",
   "execution_count": 19,
   "metadata": {},
   "outputs": [
    {
     "data": {
      "text/html": [
       "<div><style>\n",
       ".dataframe > thead > tr,\n",
       ".dataframe > tbody > tr {\n",
       "  text-align: right;\n",
       "  white-space: pre-wrap;\n",
       "}\n",
       "</style>\n",
       "<small>shape: (91_061, 12)</small><table border=\"1\" class=\"dataframe\"><thead><tr><th>person_age</th><th>person_income</th><th>person_home_ownership</th><th>person_emp_length</th><th>loan_intent</th><th>loan_grade</th><th>loan_amnt</th><th>loan_int_rate</th><th>loan_status</th><th>loan_percent_income</th><th>cb_person_default_on_file</th><th>cb_person_cred_hist_length</th></tr><tr><td>i64</td><td>i64</td><td>str</td><td>f64</td><td>str</td><td>str</td><td>i64</td><td>f64</td><td>i64</td><td>f64</td><td>str</td><td>i64</td></tr></thead><tbody><tr><td>24</td><td>63000</td><td>&quot;MORTGAGE&quot;</td><td>7.0</td><td>&quot;VENTURE&quot;</td><td>&quot;B&quot;</td><td>6000</td><td>10.59</td><td>0</td><td>0.1</td><td>&quot;N&quot;</td><td>2</td></tr><tr><td>27</td><td>48000</td><td>&quot;MORTGAGE&quot;</td><td>4.0</td><td>&quot;VENTURE&quot;</td><td>&quot;A&quot;</td><td>6000</td><td>7.49</td><td>0</td><td>0.13</td><td>&quot;N&quot;</td><td>7</td></tr><tr><td>35</td><td>60000</td><td>&quot;MORTGAGE&quot;</td><td>12.0</td><td>&quot;PERSONAL&quot;</td><td>&quot;B&quot;</td><td>7000</td><td>10.62</td><td>0</td><td>0.12</td><td>&quot;N&quot;</td><td>8</td></tr><tr><td>32</td><td>65000</td><td>&quot;OWN&quot;</td><td>3.0</td><td>&quot;EDUCATION&quot;</td><td>&quot;C&quot;</td><td>12000</td><td>13.35</td><td>0</td><td>0.18</td><td>&quot;N&quot;</td><td>10</td></tr><tr><td>23</td><td>60000</td><td>&quot;MORTGAGE&quot;</td><td>1.0</td><td>&quot;MEDICAL&quot;</td><td>&quot;A&quot;</td><td>10000</td><td>8.49</td><td>0</td><td>0.17</td><td>&quot;N&quot;</td><td>2</td></tr><tr><td>&hellip;</td><td>&hellip;</td><td>&hellip;</td><td>&hellip;</td><td>&hellip;</td><td>&hellip;</td><td>&hellip;</td><td>&hellip;</td><td>&hellip;</td><td>&hellip;</td><td>&hellip;</td><td>&hellip;</td></tr><tr><td>23</td><td>31000</td><td>&quot;RENT&quot;</td><td>3.0</td><td>&quot;DEBTCONSOLIDATION&quot;</td><td>&quot;A&quot;</td><td>12000</td><td>7.29</td><td>1</td><td>0.39</td><td>&quot;N&quot;</td><td>3</td></tr><tr><td>35</td><td>70000</td><td>&quot;MORTGAGE&quot;</td><td>16.0</td><td>&quot;HOMEIMPROVEMENT&quot;</td><td>&quot;A&quot;</td><td>6000</td><td>5.42</td><td>0</td><td>0.09</td><td>&quot;N&quot;</td><td>10</td></tr><tr><td>21</td><td>51996</td><td>&quot;MORTGAGE&quot;</td><td>5.0</td><td>&quot;EDUCATION&quot;</td><td>&quot;B&quot;</td><td>6000</td><td>10.62</td><td>0</td><td>0.12</td><td>&quot;N&quot;</td><td>3</td></tr><tr><td>30</td><td>70000</td><td>&quot;MORTGAGE&quot;</td><td>5.0</td><td>&quot;DEBTCONSOLIDATION&quot;</td><td>&quot;A&quot;</td><td>14000</td><td>7.88</td><td>0</td><td>0.19</td><td>&quot;N&quot;</td><td>5</td></tr><tr><td>29</td><td>56200</td><td>&quot;RENT&quot;</td><td>0.0</td><td>&quot;EDUCATION&quot;</td><td>&quot;E&quot;</td><td>7725</td><td>13.75</td><td>1</td><td>0.14</td><td>&quot;N&quot;</td><td>6</td></tr></tbody></table></div>"
      ],
      "text/plain": [
       "shape: (91_061, 12)\n",
       "┌───────────┬───────────┬───────────┬───────────┬───┬───────────┬───────────┬───────────┬──────────┐\n",
       "│ person_ag ┆ person_in ┆ person_ho ┆ person_em ┆ … ┆ loan_stat ┆ loan_perc ┆ cb_person ┆ cb_perso │\n",
       "│ e         ┆ come      ┆ me_owners ┆ p_length  ┆   ┆ us        ┆ ent_incom ┆ _default_ ┆ n_cred_h │\n",
       "│ ---       ┆ ---       ┆ hip       ┆ ---       ┆   ┆ ---       ┆ e         ┆ on_file   ┆ ist_leng │\n",
       "│ i64       ┆ i64       ┆ ---       ┆ f64       ┆   ┆ i64       ┆ ---       ┆ ---       ┆ th       │\n",
       "│           ┆           ┆ str       ┆           ┆   ┆           ┆ f64       ┆ str       ┆ ---      │\n",
       "│           ┆           ┆           ┆           ┆   ┆           ┆           ┆           ┆ i64      │\n",
       "╞═══════════╪═══════════╪═══════════╪═══════════╪═══╪═══════════╪═══════════╪═══════════╪══════════╡\n",
       "│ 24        ┆ 63000     ┆ MORTGAGE  ┆ 7.0       ┆ … ┆ 0         ┆ 0.1       ┆ N         ┆ 2        │\n",
       "│ 27        ┆ 48000     ┆ MORTGAGE  ┆ 4.0       ┆ … ┆ 0         ┆ 0.13      ┆ N         ┆ 7        │\n",
       "│ 35        ┆ 60000     ┆ MORTGAGE  ┆ 12.0      ┆ … ┆ 0         ┆ 0.12      ┆ N         ┆ 8        │\n",
       "│ 32        ┆ 65000     ┆ OWN       ┆ 3.0       ┆ … ┆ 0         ┆ 0.18      ┆ N         ┆ 10       │\n",
       "│ 23        ┆ 60000     ┆ MORTGAGE  ┆ 1.0       ┆ … ┆ 0         ┆ 0.17      ┆ N         ┆ 2        │\n",
       "│ …         ┆ …         ┆ …         ┆ …         ┆ … ┆ …         ┆ …         ┆ …         ┆ …        │\n",
       "│ 23        ┆ 31000     ┆ RENT      ┆ 3.0       ┆ … ┆ 1         ┆ 0.39      ┆ N         ┆ 3        │\n",
       "│ 35        ┆ 70000     ┆ MORTGAGE  ┆ 16.0      ┆ … ┆ 0         ┆ 0.09      ┆ N         ┆ 10       │\n",
       "│ 21        ┆ 51996     ┆ MORTGAGE  ┆ 5.0       ┆ … ┆ 0         ┆ 0.12      ┆ N         ┆ 3        │\n",
       "│ 30        ┆ 70000     ┆ MORTGAGE  ┆ 5.0       ┆ … ┆ 0         ┆ 0.19      ┆ N         ┆ 5        │\n",
       "│ 29        ┆ 56200     ┆ RENT      ┆ 0.0       ┆ … ┆ 1         ┆ 0.14      ┆ N         ┆ 6        │\n",
       "└───────────┴───────────┴───────────┴───────────┴───┴───────────┴───────────┴───────────┴──────────┘"
      ]
     },
     "execution_count": 19,
     "metadata": {},
     "output_type": "execute_result"
    }
   ],
   "source": [
    "train_df"
   ]
  },
  {
   "cell_type": "markdown",
   "metadata": {},
   "source": [
    "## Feature Engineering ⚡️"
   ]
  },
  {
   "cell_type": "markdown",
   "metadata": {},
   "source": [
    "### Try already done features 🤓 "
   ]
  },
  {
   "cell_type": "code",
   "execution_count": 11,
   "metadata": {},
   "outputs": [
    {
     "name": "stdout",
     "output_type": "stream",
     "text": [
      "interval columns not set, guessing: ['person_age', 'person_income', 'person_emp_length', 'loan_amnt', 'loan_int_rate', 'loan_status', 'loan_percent_income', 'cb_person_cred_hist_length']\n"
     ]
    },
    {
     "data": {
      "text/plain": [
       "person_income                 0.004249\n",
       "person_age                    0.010261\n",
       "person_emp_length             0.025630\n",
       "cb_person_cred_hist_length    0.033936\n",
       "loan_intent                   0.158070\n",
       "loan_amnt                     0.186542\n",
       "cb_person_default_on_file     0.288304\n",
       "person_home_ownership         0.355777\n",
       "loan_grade                    0.414850\n",
       "loan_int_rate                 0.518182\n",
       "loan_percent_income           0.543314\n",
       "loan_status                   1.000000\n",
       "Name: loan_status, dtype: float64"
      ]
     },
     "execution_count": 11,
     "metadata": {},
     "output_type": "execute_result"
    }
   ],
   "source": [
    "(\n",
    "    train_df.select(\n",
    "        # pl.col(pl.Int64, pl.Float64)\n",
    "        '*'\n",
    "    ).to_pandas()\n",
    "    .phik_matrix()\n",
    "    ['loan_status'].sort_values()\n",
    ")"
   ]
  },
  {
   "cell_type": "code",
   "execution_count": 27,
   "metadata": {},
   "outputs": [],
   "source": [
    "feature_rate = train_df.with_columns(\n",
    "    (pl.col('loan_percent_income') / pl.col('person_income')).alias('loan_int_rate_per_persone_income'),\n",
    "    (pl.col('loan_percent_income') > 0.2).alias('check_loan_bool'),\n",
    "    ((pl.col('cb_person_default_on_file') == 'Y') & (pl.col('loan_grade').is_in(['C', 'D', 'E']))).alias('risk_flag')\n",
    "    # (pl.col('loan_amnt') / pl.col('person_income') - pl.col('loan_percent_income')).alias('loan_to_income')\n",
    ")"
   ]
  },
  {
   "cell_type": "code",
   "execution_count": 29,
   "metadata": {},
   "outputs": [
    {
     "name": "stdout",
     "output_type": "stream",
     "text": [
      "interval columns not set, guessing: ['person_age', 'person_income', 'person_emp_length', 'loan_amnt', 'loan_int_rate', 'loan_status', 'loan_percent_income', 'cb_person_cred_hist_length', 'loan_int_rate_per_persone_income']\n"
     ]
    },
    {
     "data": {
      "text/plain": [
       "person_income                       0.004249\n",
       "person_age                          0.010261\n",
       "person_emp_length                   0.025630\n",
       "cb_person_cred_hist_length          0.033936\n",
       "loan_intent                         0.158070\n",
       "loan_amnt                           0.186542\n",
       "loan_int_rate_per_persone_income    0.219960\n",
       "risk_flag                           0.273636\n",
       "cb_person_default_on_file           0.288304\n",
       "person_home_ownership               0.355777\n",
       "loan_grade                          0.414850\n",
       "check_loan_bool                     0.454090\n",
       "loan_int_rate                       0.518182\n",
       "loan_percent_income                 0.543314\n",
       "loan_status                         1.000000\n",
       "Name: loan_status, dtype: float64"
      ]
     },
     "execution_count": 29,
     "metadata": {},
     "output_type": "execute_result"
    }
   ],
   "source": [
    "(\n",
    "    feature_rate.select(\n",
    "        # pl.col(pl.Int64, pl.Float64)\n",
    "        '*'\n",
    "    ).to_pandas()\n",
    "    .phik_matrix()\n",
    "    ['loan_status'].sort_values()\n",
    ")"
   ]
  },
  {
   "cell_type": "code",
   "execution_count": null,
   "metadata": {},
   "outputs": [],
   "source": [
    "def preprocess(df):\n",
    "    df['loan_to_income'] = ((df['loan_amnt'] / df['person_income']) - df['loan_percent_income']).astype('string').astype('category')\n",
    "    df['age_income_interaction'] = (df['person_age'] * df['person_income']).astype('string').astype('category')\n",
    "    df['loan_to_emp_length_ratio'] = (df['loan_amnt'] / df['person_emp_length'].replace({'None': original['person_emp_length'].mean()}).astype('float')).astype('string').astype('category')\n",
    "    monthly_income = df['person_income'] / 12\n",
    "    df['monthly_debt'] = (df['loan_amnt'] * (1 + df['loan_int_rate'].replace({'None': original['loan_int_rate'].mean()})) / 12)\n",
    "    df['dti_ratio'] = (df['monthly_debt'] / monthly_income).astype('string').astype('category')\n",
    "    df['monthly_debt'] = df['monthly_debt'].astype('string').astype('category')\n",
    "    df['risk_flag'] = (np.where((df['cb_person_default_on_file'] == 'Y') & (df['loan_grade'].isin(['C', 'D', 'E'])), 1, 0))\n",
    "    df['risk_flag'] = df['risk_flag'].astype('category')\n",
    "    df['person_home_ownership'] = df['person_home_ownership'].astype('category')\n",
    "    df['loan_intent'] = df['loan_intent'].astype('category')\n",
    "    df['loan_grade'] = df['loan_grade'].astype('category')\n",
    "    df['cb_person_default_on_file'] = df['cb_person_default_on_file'].astype('category')\n",
    "    df['person_emp_length'] = df['person_emp_length'].astype('string').astype('category')\n",
    "    df['loan_int_rate'] = (df['loan_int_rate'] * 100).astype('string').astype('category')\n",
    "    df['loan_percent_income'] = (df['loan_percent_income'] * 100).astype('string').astype('category')"
   ]
  },
  {
   "cell_type": "code",
   "execution_count": 34,
   "metadata": {},
   "outputs": [
    {
     "data": {
      "text/html": [
       "<div><style>\n",
       ".dataframe > thead > tr,\n",
       ".dataframe > tbody > tr {\n",
       "  text-align: right;\n",
       "  white-space: pre-wrap;\n",
       "}\n",
       "</style>\n",
       "<small>shape: (91_061, 13)</small><table border=\"1\" class=\"dataframe\"><thead><tr><th>person_age</th><th>person_income</th><th>person_home_ownership</th><th>person_emp_length</th><th>loan_intent</th><th>loan_grade</th><th>loan_amnt</th><th>loan_int_rate</th><th>loan_status</th><th>loan_percent_income</th><th>cb_person_default_on_file</th><th>cb_person_cred_hist_length</th><th>loan_to_income</th></tr><tr><td>i64</td><td>i64</td><td>str</td><td>f64</td><td>str</td><td>str</td><td>i64</td><td>f64</td><td>i64</td><td>f64</td><td>str</td><td>i64</td><td>f64</td></tr></thead><tbody><tr><td>24</td><td>63000</td><td>&quot;MORTGAGE&quot;</td><td>7.0</td><td>&quot;VENTURE&quot;</td><td>&quot;B&quot;</td><td>6000</td><td>10.59</td><td>0</td><td>0.1</td><td>&quot;N&quot;</td><td>2</td><td>-0.004762</td></tr><tr><td>27</td><td>48000</td><td>&quot;MORTGAGE&quot;</td><td>4.0</td><td>&quot;VENTURE&quot;</td><td>&quot;A&quot;</td><td>6000</td><td>7.49</td><td>0</td><td>0.13</td><td>&quot;N&quot;</td><td>7</td><td>-0.005</td></tr><tr><td>35</td><td>60000</td><td>&quot;MORTGAGE&quot;</td><td>12.0</td><td>&quot;PERSONAL&quot;</td><td>&quot;B&quot;</td><td>7000</td><td>10.62</td><td>0</td><td>0.12</td><td>&quot;N&quot;</td><td>8</td><td>-0.003333</td></tr><tr><td>32</td><td>65000</td><td>&quot;OWN&quot;</td><td>3.0</td><td>&quot;EDUCATION&quot;</td><td>&quot;C&quot;</td><td>12000</td><td>13.35</td><td>0</td><td>0.18</td><td>&quot;N&quot;</td><td>10</td><td>0.004615</td></tr><tr><td>23</td><td>60000</td><td>&quot;MORTGAGE&quot;</td><td>1.0</td><td>&quot;MEDICAL&quot;</td><td>&quot;A&quot;</td><td>10000</td><td>8.49</td><td>0</td><td>0.17</td><td>&quot;N&quot;</td><td>2</td><td>-0.003333</td></tr><tr><td>&hellip;</td><td>&hellip;</td><td>&hellip;</td><td>&hellip;</td><td>&hellip;</td><td>&hellip;</td><td>&hellip;</td><td>&hellip;</td><td>&hellip;</td><td>&hellip;</td><td>&hellip;</td><td>&hellip;</td><td>&hellip;</td></tr><tr><td>23</td><td>31000</td><td>&quot;RENT&quot;</td><td>3.0</td><td>&quot;DEBTCONSOLIDATION&quot;</td><td>&quot;A&quot;</td><td>12000</td><td>7.29</td><td>1</td><td>0.39</td><td>&quot;N&quot;</td><td>3</td><td>-0.002903</td></tr><tr><td>35</td><td>70000</td><td>&quot;MORTGAGE&quot;</td><td>16.0</td><td>&quot;HOMEIMPROVEMENT&quot;</td><td>&quot;A&quot;</td><td>6000</td><td>5.42</td><td>0</td><td>0.09</td><td>&quot;N&quot;</td><td>10</td><td>-0.004286</td></tr><tr><td>21</td><td>51996</td><td>&quot;MORTGAGE&quot;</td><td>5.0</td><td>&quot;EDUCATION&quot;</td><td>&quot;B&quot;</td><td>6000</td><td>10.62</td><td>0</td><td>0.12</td><td>&quot;N&quot;</td><td>3</td><td>-0.004607</td></tr><tr><td>30</td><td>70000</td><td>&quot;MORTGAGE&quot;</td><td>5.0</td><td>&quot;DEBTCONSOLIDATION&quot;</td><td>&quot;A&quot;</td><td>14000</td><td>7.88</td><td>0</td><td>0.19</td><td>&quot;N&quot;</td><td>5</td><td>0.01</td></tr><tr><td>29</td><td>56200</td><td>&quot;RENT&quot;</td><td>0.0</td><td>&quot;EDUCATION&quot;</td><td>&quot;E&quot;</td><td>7725</td><td>13.75</td><td>1</td><td>0.14</td><td>&quot;N&quot;</td><td>6</td><td>-0.002544</td></tr></tbody></table></div>"
      ],
      "text/plain": [
       "shape: (91_061, 13)\n",
       "┌───────────┬───────────┬───────────┬───────────┬───┬───────────┬───────────┬───────────┬──────────┐\n",
       "│ person_ag ┆ person_in ┆ person_ho ┆ person_em ┆ … ┆ loan_perc ┆ cb_person ┆ cb_person ┆ loan_to_ │\n",
       "│ e         ┆ come      ┆ me_owners ┆ p_length  ┆   ┆ ent_incom ┆ _default_ ┆ _cred_his ┆ income   │\n",
       "│ ---       ┆ ---       ┆ hip       ┆ ---       ┆   ┆ e         ┆ on_file   ┆ t_length  ┆ ---      │\n",
       "│ i64       ┆ i64       ┆ ---       ┆ f64       ┆   ┆ ---       ┆ ---       ┆ ---       ┆ f64      │\n",
       "│           ┆           ┆ str       ┆           ┆   ┆ f64       ┆ str       ┆ i64       ┆          │\n",
       "╞═══════════╪═══════════╪═══════════╪═══════════╪═══╪═══════════╪═══════════╪═══════════╪══════════╡\n",
       "│ 24        ┆ 63000     ┆ MORTGAGE  ┆ 7.0       ┆ … ┆ 0.1       ┆ N         ┆ 2         ┆ -0.00476 │\n",
       "│           ┆           ┆           ┆           ┆   ┆           ┆           ┆           ┆ 2        │\n",
       "│ 27        ┆ 48000     ┆ MORTGAGE  ┆ 4.0       ┆ … ┆ 0.13      ┆ N         ┆ 7         ┆ -0.005   │\n",
       "│ 35        ┆ 60000     ┆ MORTGAGE  ┆ 12.0      ┆ … ┆ 0.12      ┆ N         ┆ 8         ┆ -0.00333 │\n",
       "│           ┆           ┆           ┆           ┆   ┆           ┆           ┆           ┆ 3        │\n",
       "│ 32        ┆ 65000     ┆ OWN       ┆ 3.0       ┆ … ┆ 0.18      ┆ N         ┆ 10        ┆ 0.004615 │\n",
       "│ 23        ┆ 60000     ┆ MORTGAGE  ┆ 1.0       ┆ … ┆ 0.17      ┆ N         ┆ 2         ┆ -0.00333 │\n",
       "│           ┆           ┆           ┆           ┆   ┆           ┆           ┆           ┆ 3        │\n",
       "│ …         ┆ …         ┆ …         ┆ …         ┆ … ┆ …         ┆ …         ┆ …         ┆ …        │\n",
       "│ 23        ┆ 31000     ┆ RENT      ┆ 3.0       ┆ … ┆ 0.39      ┆ N         ┆ 3         ┆ -0.00290 │\n",
       "│           ┆           ┆           ┆           ┆   ┆           ┆           ┆           ┆ 3        │\n",
       "│ 35        ┆ 70000     ┆ MORTGAGE  ┆ 16.0      ┆ … ┆ 0.09      ┆ N         ┆ 10        ┆ -0.00428 │\n",
       "│           ┆           ┆           ┆           ┆   ┆           ┆           ┆           ┆ 6        │\n",
       "│ 21        ┆ 51996     ┆ MORTGAGE  ┆ 5.0       ┆ … ┆ 0.12      ┆ N         ┆ 3         ┆ -0.00460 │\n",
       "│           ┆           ┆           ┆           ┆   ┆           ┆           ┆           ┆ 7        │\n",
       "│ 30        ┆ 70000     ┆ MORTGAGE  ┆ 5.0       ┆ … ┆ 0.19      ┆ N         ┆ 5         ┆ 0.01     │\n",
       "│ 29        ┆ 56200     ┆ RENT      ┆ 0.0       ┆ … ┆ 0.14      ┆ N         ┆ 6         ┆ -0.00254 │\n",
       "│           ┆           ┆           ┆           ┆   ┆           ┆           ┆           ┆ 4        │\n",
       "└───────────┴───────────┴───────────┴───────────┴───┴───────────┴───────────┴───────────┴──────────┘"
      ]
     },
     "execution_count": 34,
     "metadata": {},
     "output_type": "execute_result"
    }
   ],
   "source": [
    "train_df.with_columns(\n",
    "    (pl.col('loan_amnt') / pl.col('person_income') - pl.col('loan_percent_income')).alias('loan_to_income'),\n",
    "    (pl.col(''))\n",
    ")"
   ]
  },
  {
   "cell_type": "code",
   "execution_count": 30,
   "metadata": {},
   "outputs": [],
   "source": [
    "def calculate_corr(df: pl.DataFrame):\n",
    "    return (\n",
    "        df.select(\n",
    "            pl.col(pl.Int64, pl.Float64, pl.Boolean)\n",
    "        ).to_pandas()\n",
    "        .phik_matrix()\n",
    "        ['loan_status'].sort_values()\n",
    "    )"
   ]
  },
  {
   "cell_type": "code",
   "execution_count": 31,
   "metadata": {},
   "outputs": [
    {
     "name": "stdout",
     "output_type": "stream",
     "text": [
      "interval columns not set, guessing: ['person_age', 'person_income', 'person_emp_length', 'loan_amnt', 'loan_int_rate', 'loan_status', 'loan_percent_income', 'cb_person_cred_hist_length', 'loan_int_rate_per_persone_income']\n"
     ]
    },
    {
     "data": {
      "text/plain": [
       "person_income                       0.004249\n",
       "person_age                          0.010261\n",
       "person_emp_length                   0.025630\n",
       "cb_person_cred_hist_length          0.033936\n",
       "loan_amnt                           0.186542\n",
       "loan_int_rate_per_persone_income    0.219960\n",
       "risk_flag                           0.273636\n",
       "check_loan_bool                     0.454090\n",
       "loan_int_rate                       0.518182\n",
       "loan_percent_income                 0.543314\n",
       "loan_status                         1.000000\n",
       "Name: loan_status, dtype: float64"
      ]
     },
     "execution_count": 31,
     "metadata": {},
     "output_type": "execute_result"
    }
   ],
   "source": [
    "calculate_corr(feature_rate)"
   ]
  },
  {
   "cell_type": "code",
   "execution_count": 34,
   "metadata": {},
   "outputs": [],
   "source": [
    "filtered = feature_rate.drop(['person_income', 'person_age', 'person_emp_length', 'cb_person_cred_hist_length'])"
   ]
  },
  {
   "cell_type": "markdown",
   "metadata": {},
   "source": [
    "## Test ur code 🤖"
   ]
  },
  {
   "cell_type": "code",
   "execution_count": 35,
   "metadata": {},
   "outputs": [],
   "source": [
    "def calc_metrics(dataset: pl.DataFrame, cv=StratifiedKFold(), get_artifacts=False):\n",
    "    models_list = []\n",
    "    metrics_list = []\n",
    "\n",
    "    X = dataset.drop('loan_status')\n",
    "    y = dataset.select('loan_status')\n",
    "\n",
    "    cat_features = X.select(pl.col(pl.String)).columns\n",
    "\n",
    "    pbar = tqdm(cv.split(X, y), total=cv.get_n_splits())\n",
    "    for train_idx, test_idx, in pbar:\n",
    "        X_train, X_test = X[train_idx], X[test_idx]\n",
    "        y_train, y_test = y[train_idx], y[test_idx]\n",
    "\n",
    "        train_pool = Pool(X_train.to_pandas(), y_train.to_pandas(), cat_features=cat_features)\n",
    "        test_pool = Pool(X_test.to_pandas(), y_test.to_pandas(), cat_features=cat_features)\n",
    "\n",
    "        model = CatBoostClassifier(\n",
    "            iterations=5000, \n",
    "            learning_rate=0.05,\n",
    "            eval_metric='AUC',\n",
    "            loss_function='Logloss',\n",
    "            random_seed=2024\n",
    "        )\n",
    "\n",
    "        model.fit(\n",
    "            train_pool, \n",
    "            eval_set=test_pool,\n",
    "            early_stopping_rounds=150,\n",
    "            verbose=500\n",
    "        )\n",
    "\n",
    "        y_pred = model.predict_proba(X_test.to_pandas())[:, 1]\n",
    "        score = roc_auc_score(y_test, y_pred)\n",
    "        pbar.set_description(f'ROC-AUC: {score:.4f}')\n",
    "\n",
    "        models_list.append(model)\n",
    "        metrics_list.append(score)\n",
    "\n",
    "    print(f'All metrics: {metrics_list}')\n",
    "    print(f'Mean ROC-AUC: {np.mean(metrics_list) - np.std(metrics_list)}')\n",
    "\n",
    "    if get_artifacts:\n",
    "        return models_list, metrics_list"
   ]
  },
  {
   "cell_type": "code",
   "execution_count": 36,
   "metadata": {},
   "outputs": [
    {
     "data": {
      "application/vnd.jupyter.widget-view+json": {
       "model_id": "9c215d3c31174b62a4729ca16ca3d1d7",
       "version_major": 2,
       "version_minor": 0
      },
      "text/plain": [
       "  0%|          | 0/5 [00:00<?, ?it/s]"
      ]
     },
     "metadata": {},
     "output_type": "display_data"
    },
    {
     "name": "stdout",
     "output_type": "stream",
     "text": [
      "0:\ttest: 0.8549280\tbest: 0.8549280 (0)\ttotal: 118ms\tremaining: 9m 49s\n",
      "500:\ttest: 0.9290144\tbest: 0.9290144 (500)\ttotal: 13.8s\tremaining: 2m 3s\n",
      "1000:\ttest: 0.9327038\tbest: 0.9327072 (999)\ttotal: 28s\tremaining: 1m 52s\n",
      "1500:\ttest: 0.9348161\tbest: 0.9348212 (1490)\ttotal: 42.3s\tremaining: 1m 38s\n",
      "2000:\ttest: 0.9362342\tbest: 0.9362646 (1987)\ttotal: 56.8s\tremaining: 1m 25s\n",
      "2500:\ttest: 0.9374439\tbest: 0.9374453 (2488)\ttotal: 1m 11s\tremaining: 1m 11s\n",
      "3000:\ttest: 0.9382619\tbest: 0.9382808 (2980)\ttotal: 1m 25s\tremaining: 57.2s\n",
      "3500:\ttest: 0.9385677\tbest: 0.9387107 (3400)\ttotal: 1m 40s\tremaining: 43s\n",
      "Stopped by overfitting detector  (150 iterations wait)\n",
      "\n",
      "bestTest = 0.9387106582\n",
      "bestIteration = 3400\n",
      "\n",
      "Shrink model to first 3401 iterations.\n",
      "0:\ttest: 0.8583233\tbest: 0.8583233 (0)\ttotal: 43.9ms\tremaining: 3m 39s\n",
      "500:\ttest: 0.9324237\tbest: 0.9324237 (500)\ttotal: 13.5s\tremaining: 2m 1s\n",
      "1000:\ttest: 0.9356292\tbest: 0.9356316 (991)\ttotal: 27.8s\tremaining: 1m 50s\n",
      "1500:\ttest: 0.9377196\tbest: 0.9377231 (1497)\ttotal: 42.1s\tremaining: 1m 38s\n",
      "2000:\ttest: 0.9392418\tbest: 0.9392443 (1989)\ttotal: 57.2s\tremaining: 1m 25s\n",
      "2500:\ttest: 0.9401884\tbest: 0.9401884 (2500)\ttotal: 1m 12s\tremaining: 1m 12s\n",
      "3000:\ttest: 0.9410134\tbest: 0.9410374 (2987)\ttotal: 1m 27s\tremaining: 58.1s\n",
      "Stopped by overfitting detector  (150 iterations wait)\n",
      "\n",
      "bestTest = 0.9412999971\n",
      "bestIteration = 3266\n",
      "\n",
      "Shrink model to first 3267 iterations.\n",
      "0:\ttest: 0.8594314\tbest: 0.8594314 (0)\ttotal: 41ms\tremaining: 3m 25s\n",
      "500:\ttest: 0.9321314\tbest: 0.9321314 (500)\ttotal: 13.1s\tremaining: 1m 57s\n",
      "1000:\ttest: 0.9354626\tbest: 0.9354654 (999)\ttotal: 27.1s\tremaining: 1m 48s\n",
      "1500:\ttest: 0.9373801\tbest: 0.9373998 (1484)\ttotal: 41.5s\tremaining: 1m 36s\n",
      "2000:\ttest: 0.9382748\tbest: 0.9382748 (2000)\ttotal: 56s\tremaining: 1m 23s\n"
     ]
    },
    {
     "ename": "KeyboardInterrupt",
     "evalue": "",
     "output_type": "error",
     "traceback": [
      "\u001b[0;31m---------------------------------------------------------------------------\u001b[0m",
      "\u001b[0;31mKeyboardInterrupt\u001b[0m                         Traceback (most recent call last)",
      "Cell \u001b[0;32mIn[36], line 1\u001b[0m\n\u001b[0;32m----> 1\u001b[0m models_list, metrics_list \u001b[38;5;241m=\u001b[39m \u001b[43mcalc_metrics\u001b[49m\u001b[43m(\u001b[49m\u001b[43mfiltered\u001b[49m\u001b[43m,\u001b[49m\u001b[43m \u001b[49m\u001b[43mget_artifacts\u001b[49m\u001b[38;5;241;43m=\u001b[39;49m\u001b[38;5;28;43;01mTrue\u001b[39;49;00m\u001b[43m)\u001b[49m\n",
      "Cell \u001b[0;32mIn[35], line 26\u001b[0m, in \u001b[0;36mcalc_metrics\u001b[0;34m(dataset, cv, get_artifacts)\u001b[0m\n\u001b[1;32m     16\u001b[0m test_pool \u001b[38;5;241m=\u001b[39m Pool(X_test\u001b[38;5;241m.\u001b[39mto_pandas(), y_test\u001b[38;5;241m.\u001b[39mto_pandas(), cat_features\u001b[38;5;241m=\u001b[39mcat_features)\n\u001b[1;32m     18\u001b[0m model \u001b[38;5;241m=\u001b[39m CatBoostClassifier(\n\u001b[1;32m     19\u001b[0m     iterations\u001b[38;5;241m=\u001b[39m\u001b[38;5;241m5000\u001b[39m, \n\u001b[1;32m     20\u001b[0m     learning_rate\u001b[38;5;241m=\u001b[39m\u001b[38;5;241m0.05\u001b[39m,\n\u001b[0;32m   (...)\u001b[0m\n\u001b[1;32m     23\u001b[0m     random_seed\u001b[38;5;241m=\u001b[39m\u001b[38;5;241m2024\u001b[39m\n\u001b[1;32m     24\u001b[0m )\n\u001b[0;32m---> 26\u001b[0m \u001b[43mmodel\u001b[49m\u001b[38;5;241;43m.\u001b[39;49m\u001b[43mfit\u001b[49m\u001b[43m(\u001b[49m\n\u001b[1;32m     27\u001b[0m \u001b[43m    \u001b[49m\u001b[43mtrain_pool\u001b[49m\u001b[43m,\u001b[49m\u001b[43m \u001b[49m\n\u001b[1;32m     28\u001b[0m \u001b[43m    \u001b[49m\u001b[43meval_set\u001b[49m\u001b[38;5;241;43m=\u001b[39;49m\u001b[43mtest_pool\u001b[49m\u001b[43m,\u001b[49m\n\u001b[1;32m     29\u001b[0m \u001b[43m    \u001b[49m\u001b[43mearly_stopping_rounds\u001b[49m\u001b[38;5;241;43m=\u001b[39;49m\u001b[38;5;241;43m150\u001b[39;49m\u001b[43m,\u001b[49m\n\u001b[1;32m     30\u001b[0m \u001b[43m    \u001b[49m\u001b[43mverbose\u001b[49m\u001b[38;5;241;43m=\u001b[39;49m\u001b[38;5;241;43m500\u001b[39;49m\n\u001b[1;32m     31\u001b[0m \u001b[43m\u001b[49m\u001b[43m)\u001b[49m\n\u001b[1;32m     33\u001b[0m y_pred \u001b[38;5;241m=\u001b[39m model\u001b[38;5;241m.\u001b[39mpredict_proba(X_test\u001b[38;5;241m.\u001b[39mto_pandas())[:, \u001b[38;5;241m1\u001b[39m]\n\u001b[1;32m     34\u001b[0m score \u001b[38;5;241m=\u001b[39m roc_auc_score(y_test, y_pred)\n",
      "File \u001b[0;32m~/projects/Kaggle/Playground/Loan_Approval/.devenv/state/venv/lib/python3.11/site-packages/catboost/core.py:5245\u001b[0m, in \u001b[0;36mCatBoostClassifier.fit\u001b[0;34m(self, X, y, cat_features, text_features, embedding_features, graph, sample_weight, baseline, use_best_model, eval_set, verbose, logging_level, plot, plot_file, column_description, verbose_eval, metric_period, silent, early_stopping_rounds, save_snapshot, snapshot_file, snapshot_interval, init_model, callbacks, log_cout, log_cerr)\u001b[0m\n\u001b[1;32m   5242\u001b[0m \u001b[38;5;28;01mif\u001b[39;00m \u001b[38;5;124m'\u001b[39m\u001b[38;5;124mloss_function\u001b[39m\u001b[38;5;124m'\u001b[39m \u001b[38;5;129;01min\u001b[39;00m params:\n\u001b[1;32m   5243\u001b[0m     CatBoostClassifier\u001b[38;5;241m.\u001b[39m_check_is_compatible_loss(params[\u001b[38;5;124m'\u001b[39m\u001b[38;5;124mloss_function\u001b[39m\u001b[38;5;124m'\u001b[39m])\n\u001b[0;32m-> 5245\u001b[0m \u001b[38;5;28;43mself\u001b[39;49m\u001b[38;5;241;43m.\u001b[39;49m\u001b[43m_fit\u001b[49m\u001b[43m(\u001b[49m\u001b[43mX\u001b[49m\u001b[43m,\u001b[49m\u001b[43m \u001b[49m\u001b[43my\u001b[49m\u001b[43m,\u001b[49m\u001b[43m \u001b[49m\u001b[43mcat_features\u001b[49m\u001b[43m,\u001b[49m\u001b[43m \u001b[49m\u001b[43mtext_features\u001b[49m\u001b[43m,\u001b[49m\u001b[43m \u001b[49m\u001b[43membedding_features\u001b[49m\u001b[43m,\u001b[49m\u001b[43m \u001b[49m\u001b[38;5;28;43;01mNone\u001b[39;49;00m\u001b[43m,\u001b[49m\u001b[43m \u001b[49m\u001b[43mgraph\u001b[49m\u001b[43m,\u001b[49m\u001b[43m \u001b[49m\u001b[43msample_weight\u001b[49m\u001b[43m,\u001b[49m\u001b[43m \u001b[49m\u001b[38;5;28;43;01mNone\u001b[39;49;00m\u001b[43m,\u001b[49m\u001b[43m \u001b[49m\u001b[38;5;28;43;01mNone\u001b[39;49;00m\u001b[43m,\u001b[49m\u001b[43m \u001b[49m\u001b[38;5;28;43;01mNone\u001b[39;49;00m\u001b[43m,\u001b[49m\u001b[43m \u001b[49m\u001b[38;5;28;43;01mNone\u001b[39;49;00m\u001b[43m,\u001b[49m\u001b[43m \u001b[49m\u001b[43mbaseline\u001b[49m\u001b[43m,\u001b[49m\u001b[43m \u001b[49m\u001b[43muse_best_model\u001b[49m\u001b[43m,\u001b[49m\n\u001b[1;32m   5246\u001b[0m \u001b[43m          \u001b[49m\u001b[43meval_set\u001b[49m\u001b[43m,\u001b[49m\u001b[43m \u001b[49m\u001b[43mverbose\u001b[49m\u001b[43m,\u001b[49m\u001b[43m \u001b[49m\u001b[43mlogging_level\u001b[49m\u001b[43m,\u001b[49m\u001b[43m \u001b[49m\u001b[43mplot\u001b[49m\u001b[43m,\u001b[49m\u001b[43m \u001b[49m\u001b[43mplot_file\u001b[49m\u001b[43m,\u001b[49m\u001b[43m \u001b[49m\u001b[43mcolumn_description\u001b[49m\u001b[43m,\u001b[49m\u001b[43m \u001b[49m\u001b[43mverbose_eval\u001b[49m\u001b[43m,\u001b[49m\u001b[43m \u001b[49m\u001b[43mmetric_period\u001b[49m\u001b[43m,\u001b[49m\n\u001b[1;32m   5247\u001b[0m \u001b[43m          \u001b[49m\u001b[43msilent\u001b[49m\u001b[43m,\u001b[49m\u001b[43m \u001b[49m\u001b[43mearly_stopping_rounds\u001b[49m\u001b[43m,\u001b[49m\u001b[43m \u001b[49m\u001b[43msave_snapshot\u001b[49m\u001b[43m,\u001b[49m\u001b[43m \u001b[49m\u001b[43msnapshot_file\u001b[49m\u001b[43m,\u001b[49m\u001b[43m \u001b[49m\u001b[43msnapshot_interval\u001b[49m\u001b[43m,\u001b[49m\u001b[43m \u001b[49m\u001b[43minit_model\u001b[49m\u001b[43m,\u001b[49m\u001b[43m \u001b[49m\u001b[43mcallbacks\u001b[49m\u001b[43m,\u001b[49m\u001b[43m \u001b[49m\u001b[43mlog_cout\u001b[49m\u001b[43m,\u001b[49m\u001b[43m \u001b[49m\u001b[43mlog_cerr\u001b[49m\u001b[43m)\u001b[49m\n\u001b[1;32m   5248\u001b[0m \u001b[38;5;28;01mreturn\u001b[39;00m \u001b[38;5;28mself\u001b[39m\n",
      "File \u001b[0;32m~/projects/Kaggle/Playground/Loan_Approval/.devenv/state/venv/lib/python3.11/site-packages/catboost/core.py:2410\u001b[0m, in \u001b[0;36mCatBoost._fit\u001b[0;34m(self, X, y, cat_features, text_features, embedding_features, pairs, graph, sample_weight, group_id, group_weight, subgroup_id, pairs_weight, baseline, use_best_model, eval_set, verbose, logging_level, plot, plot_file, column_description, verbose_eval, metric_period, silent, early_stopping_rounds, save_snapshot, snapshot_file, snapshot_interval, init_model, callbacks, log_cout, log_cerr)\u001b[0m\n\u001b[1;32m   2407\u001b[0m allow_clear_pool \u001b[38;5;241m=\u001b[39m train_params[\u001b[38;5;124m\"\u001b[39m\u001b[38;5;124mallow_clear_pool\u001b[39m\u001b[38;5;124m\"\u001b[39m]\n\u001b[1;32m   2409\u001b[0m \u001b[38;5;28;01mwith\u001b[39;00m plot_wrapper(plot, plot_file, \u001b[38;5;124m'\u001b[39m\u001b[38;5;124mTraining plots\u001b[39m\u001b[38;5;124m'\u001b[39m, [_get_train_dir(\u001b[38;5;28mself\u001b[39m\u001b[38;5;241m.\u001b[39mget_params())]):\n\u001b[0;32m-> 2410\u001b[0m     \u001b[38;5;28;43mself\u001b[39;49m\u001b[38;5;241;43m.\u001b[39;49m\u001b[43m_train\u001b[49m\u001b[43m(\u001b[49m\n\u001b[1;32m   2411\u001b[0m \u001b[43m        \u001b[49m\u001b[43mtrain_pool\u001b[49m\u001b[43m,\u001b[49m\n\u001b[1;32m   2412\u001b[0m \u001b[43m        \u001b[49m\u001b[43mtrain_params\u001b[49m\u001b[43m[\u001b[49m\u001b[38;5;124;43m\"\u001b[39;49m\u001b[38;5;124;43meval_sets\u001b[39;49m\u001b[38;5;124;43m\"\u001b[39;49m\u001b[43m]\u001b[49m\u001b[43m,\u001b[49m\n\u001b[1;32m   2413\u001b[0m \u001b[43m        \u001b[49m\u001b[43mparams\u001b[49m\u001b[43m,\u001b[49m\n\u001b[1;32m   2414\u001b[0m \u001b[43m        \u001b[49m\u001b[43mallow_clear_pool\u001b[49m\u001b[43m,\u001b[49m\n\u001b[1;32m   2415\u001b[0m \u001b[43m        \u001b[49m\u001b[43mtrain_params\u001b[49m\u001b[43m[\u001b[49m\u001b[38;5;124;43m\"\u001b[39;49m\u001b[38;5;124;43minit_model\u001b[39;49m\u001b[38;5;124;43m\"\u001b[39;49m\u001b[43m]\u001b[49m\n\u001b[1;32m   2416\u001b[0m \u001b[43m    \u001b[49m\u001b[43m)\u001b[49m\n\u001b[1;32m   2418\u001b[0m \u001b[38;5;66;03m# Have property feature_importance possibly set\u001b[39;00m\n\u001b[1;32m   2419\u001b[0m loss \u001b[38;5;241m=\u001b[39m \u001b[38;5;28mself\u001b[39m\u001b[38;5;241m.\u001b[39m_object\u001b[38;5;241m.\u001b[39m_get_loss_function_name()\n",
      "File \u001b[0;32m~/projects/Kaggle/Playground/Loan_Approval/.devenv/state/venv/lib/python3.11/site-packages/catboost/core.py:1790\u001b[0m, in \u001b[0;36m_CatBoostBase._train\u001b[0;34m(self, train_pool, test_pool, params, allow_clear_pool, init_model)\u001b[0m\n\u001b[1;32m   1789\u001b[0m \u001b[38;5;28;01mdef\u001b[39;00m \u001b[38;5;21m_train\u001b[39m(\u001b[38;5;28mself\u001b[39m, train_pool, test_pool, params, allow_clear_pool, init_model):\n\u001b[0;32m-> 1790\u001b[0m     \u001b[38;5;28;43mself\u001b[39;49m\u001b[38;5;241;43m.\u001b[39;49m\u001b[43m_object\u001b[49m\u001b[38;5;241;43m.\u001b[39;49m\u001b[43m_train\u001b[49m\u001b[43m(\u001b[49m\u001b[43mtrain_pool\u001b[49m\u001b[43m,\u001b[49m\u001b[43m \u001b[49m\u001b[43mtest_pool\u001b[49m\u001b[43m,\u001b[49m\u001b[43m \u001b[49m\u001b[43mparams\u001b[49m\u001b[43m,\u001b[49m\u001b[43m \u001b[49m\u001b[43mallow_clear_pool\u001b[49m\u001b[43m,\u001b[49m\u001b[43m \u001b[49m\u001b[43minit_model\u001b[49m\u001b[38;5;241;43m.\u001b[39;49m\u001b[43m_object\u001b[49m\u001b[43m \u001b[49m\u001b[38;5;28;43;01mif\u001b[39;49;00m\u001b[43m \u001b[49m\u001b[43minit_model\u001b[49m\u001b[43m \u001b[49m\u001b[38;5;28;43;01melse\u001b[39;49;00m\u001b[43m \u001b[49m\u001b[38;5;28;43;01mNone\u001b[39;49;00m\u001b[43m)\u001b[49m\n\u001b[1;32m   1791\u001b[0m     \u001b[38;5;28mself\u001b[39m\u001b[38;5;241m.\u001b[39m_set_trained_model_attributes()\n",
      "File \u001b[0;32m_catboost.pyx:5017\u001b[0m, in \u001b[0;36m_catboost._CatBoost._train\u001b[0;34m()\u001b[0m\n",
      "File \u001b[0;32m_catboost.pyx:5066\u001b[0m, in \u001b[0;36m_catboost._CatBoost._train\u001b[0;34m()\u001b[0m\n",
      "\u001b[0;31mKeyboardInterrupt\u001b[0m: "
     ]
    }
   ],
   "source": [
    "models_list, metrics_list = calc_metrics(filtered, get_artifacts=True)"
   ]
  },
  {
   "cell_type": "markdown",
   "metadata": {},
   "source": [
    "# Predict"
   ]
  },
  {
   "cell_type": "code",
   "execution_count": 40,
   "metadata": {},
   "outputs": [
    {
     "data": {
      "text/plain": [
       "[0.20036091832660638,\n",
       " 0.20010007103956562,\n",
       " 0.19969826526141335,\n",
       " 0.20035778742864785,\n",
       " 0.19948295794376675]"
      ]
     },
     "execution_count": 40,
     "metadata": {},
     "output_type": "execute_result"
    }
   ],
   "source": [
    "weights = [weight / np.sum(metrics_list) for weight in metrics_list]\n",
    "weights"
   ]
  },
  {
   "cell_type": "code",
   "execution_count": 41,
   "metadata": {},
   "outputs": [],
   "source": [
    "y_subm = np.zeros(sample_df.shape[0])"
   ]
  },
  {
   "cell_type": "code",
   "execution_count": 43,
   "metadata": {},
   "outputs": [],
   "source": [
    "test_df = test_df.with_columns(\n",
    "    (pl.col('loan_percent_income') / pl.col('person_income')).alias('loan_int_rate_per_persone_income')\n",
    ")\n",
    "cat_features = test_df.select(pl.col(pl.String)).columns\n",
    "test_pool = Pool(test_df.to_pandas(), cat_features=cat_features)"
   ]
  },
  {
   "cell_type": "code",
   "execution_count": 44,
   "metadata": {},
   "outputs": [
    {
     "data": {
      "application/vnd.jupyter.widget-view+json": {
       "model_id": "d8d85bafb3b043b4a29abbc4570d489b",
       "version_major": 2,
       "version_minor": 0
      },
      "text/plain": [
       "  0%|          | 0/5 [00:00<?, ?it/s]"
      ]
     },
     "metadata": {},
     "output_type": "display_data"
    },
    {
     "data": {
      "text/plain": [
       "array([0.99983442, 0.04043389, 0.48940756, ..., 0.0076375 , 0.22591011,\n",
       "       0.97226121])"
      ]
     },
     "execution_count": 44,
     "metadata": {},
     "output_type": "execute_result"
    }
   ],
   "source": [
    "for model, weight in tqdm(zip(models_list, weights), total=len(weights)):\n",
    "    y_pred = model.predict_proba(test_pool)[:, 1] * weight\n",
    "    y_subm += y_pred\n",
    "y_subm"
   ]
  },
  {
   "cell_type": "code",
   "execution_count": 45,
   "metadata": {},
   "outputs": [],
   "source": [
    "sample_df = sample_df.with_columns(loan_status = y_subm)"
   ]
  },
  {
   "cell_type": "code",
   "execution_count": 46,
   "metadata": {},
   "outputs": [],
   "source": [
    "folder_save = Path('../subs')"
   ]
  },
  {
   "cell_type": "code",
   "execution_count": 47,
   "metadata": {},
   "outputs": [],
   "source": [
    "sample_df.write_csv(folder_save / 'cleared_dataset_weigted_predict.csv')"
   ]
  },
  {
   "cell_type": "code",
   "execution_count": null,
   "metadata": {},
   "outputs": [],
   "source": []
  }
 ],
 "metadata": {
  "kernelspec": {
   "display_name": "venv",
   "language": "python",
   "name": "python3"
  },
  "language_info": {
   "codemirror_mode": {
    "name": "ipython",
    "version": 3
   },
   "file_extension": ".py",
   "mimetype": "text/x-python",
   "name": "python",
   "nbconvert_exporter": "python",
   "pygments_lexer": "ipython3",
   "version": "3.11.8"
  }
 },
 "nbformat": 4,
 "nbformat_minor": 2
}
