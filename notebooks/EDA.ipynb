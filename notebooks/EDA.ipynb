{
 "cells": [
  {
   "cell_type": "markdown",
   "metadata": {},
   "source": [
    "# Libraries 👨‍🏫"
   ]
  },
  {
   "cell_type": "code",
   "execution_count": 1,
   "metadata": {},
   "outputs": [],
   "source": [
    "# Data\n",
    "import polars as pl\n",
    "import numpy as np\n",
    "\n",
    "# Viz\n",
    "import seaborn as sns\n",
    "import matplotlib.pyplot as plt\n",
    "import altair as alt\n",
    "alt.data_transformers.disable_max_rows()\n",
    "sns.set_theme(\n",
    "    style=\"whitegrid\"\n",
    ")\n",
    "\n",
    "# Some tools\n",
    "from pathlib import Path"
   ]
  },
  {
   "cell_type": "markdown",
   "metadata": {},
   "source": [
    "# Data 🤹‍♀️"
   ]
  },
  {
   "cell_type": "markdown",
   "metadata": {},
   "source": [
    "## Load ur data 📦"
   ]
  },
  {
   "cell_type": "code",
   "execution_count": 2,
   "metadata": {},
   "outputs": [],
   "source": [
    "folder_path = Path('../data/')"
   ]
  },
  {
   "cell_type": "code",
   "execution_count": 3,
   "metadata": {},
   "outputs": [],
   "source": [
    "train_df = pl.read_csv(folder_path / 'train.csv').drop('id')\n",
    "test_df = pl.read_csv(folder_path / 'test.csv').drop('id')\n",
    "sample_df = pl.read_csv(folder_path / 'sample_submission.csv')"
   ]
  },
  {
   "cell_type": "code",
   "execution_count": 4,
   "metadata": {},
   "outputs": [
    {
     "data": {
      "text/html": [
       "<div><style>\n",
       ".dataframe > thead > tr,\n",
       ".dataframe > tbody > tr {\n",
       "  text-align: right;\n",
       "  white-space: pre-wrap;\n",
       "}\n",
       "</style>\n",
       "<small>shape: (5, 12)</small><table border=\"1\" class=\"dataframe\"><thead><tr><th>person_age</th><th>person_income</th><th>person_home_ownership</th><th>person_emp_length</th><th>loan_intent</th><th>loan_grade</th><th>loan_amnt</th><th>loan_int_rate</th><th>loan_percent_income</th><th>cb_person_default_on_file</th><th>cb_person_cred_hist_length</th><th>loan_status</th></tr><tr><td>i64</td><td>i64</td><td>str</td><td>f64</td><td>str</td><td>str</td><td>i64</td><td>f64</td><td>f64</td><td>str</td><td>i64</td><td>i64</td></tr></thead><tbody><tr><td>37</td><td>35000</td><td>&quot;RENT&quot;</td><td>0.0</td><td>&quot;EDUCATION&quot;</td><td>&quot;B&quot;</td><td>6000</td><td>11.49</td><td>0.17</td><td>&quot;N&quot;</td><td>14</td><td>0</td></tr><tr><td>22</td><td>56000</td><td>&quot;OWN&quot;</td><td>6.0</td><td>&quot;MEDICAL&quot;</td><td>&quot;C&quot;</td><td>4000</td><td>13.35</td><td>0.07</td><td>&quot;N&quot;</td><td>2</td><td>0</td></tr><tr><td>29</td><td>28800</td><td>&quot;OWN&quot;</td><td>8.0</td><td>&quot;PERSONAL&quot;</td><td>&quot;A&quot;</td><td>6000</td><td>8.9</td><td>0.21</td><td>&quot;N&quot;</td><td>10</td><td>0</td></tr><tr><td>30</td><td>70000</td><td>&quot;RENT&quot;</td><td>14.0</td><td>&quot;VENTURE&quot;</td><td>&quot;B&quot;</td><td>12000</td><td>11.11</td><td>0.17</td><td>&quot;N&quot;</td><td>5</td><td>0</td></tr><tr><td>22</td><td>60000</td><td>&quot;RENT&quot;</td><td>2.0</td><td>&quot;MEDICAL&quot;</td><td>&quot;A&quot;</td><td>6000</td><td>6.92</td><td>0.1</td><td>&quot;N&quot;</td><td>3</td><td>0</td></tr></tbody></table></div>"
      ],
      "text/plain": [
       "shape: (5, 12)\n",
       "┌───────────┬───────────┬───────────┬───────────┬───┬───────────┬───────────┬───────────┬──────────┐\n",
       "│ person_ag ┆ person_in ┆ person_ho ┆ person_em ┆ … ┆ loan_perc ┆ cb_person ┆ cb_person ┆ loan_sta │\n",
       "│ e         ┆ come      ┆ me_owners ┆ p_length  ┆   ┆ ent_incom ┆ _default_ ┆ _cred_his ┆ tus      │\n",
       "│ ---       ┆ ---       ┆ hip       ┆ ---       ┆   ┆ e         ┆ on_file   ┆ t_length  ┆ ---      │\n",
       "│ i64       ┆ i64       ┆ ---       ┆ f64       ┆   ┆ ---       ┆ ---       ┆ ---       ┆ i64      │\n",
       "│           ┆           ┆ str       ┆           ┆   ┆ f64       ┆ str       ┆ i64       ┆          │\n",
       "╞═══════════╪═══════════╪═══════════╪═══════════╪═══╪═══════════╪═══════════╪═══════════╪══════════╡\n",
       "│ 37        ┆ 35000     ┆ RENT      ┆ 0.0       ┆ … ┆ 0.17      ┆ N         ┆ 14        ┆ 0        │\n",
       "│ 22        ┆ 56000     ┆ OWN       ┆ 6.0       ┆ … ┆ 0.07      ┆ N         ┆ 2         ┆ 0        │\n",
       "│ 29        ┆ 28800     ┆ OWN       ┆ 8.0       ┆ … ┆ 0.21      ┆ N         ┆ 10        ┆ 0        │\n",
       "│ 30        ┆ 70000     ┆ RENT      ┆ 14.0      ┆ … ┆ 0.17      ┆ N         ┆ 5         ┆ 0        │\n",
       "│ 22        ┆ 60000     ┆ RENT      ┆ 2.0       ┆ … ┆ 0.1       ┆ N         ┆ 3         ┆ 0        │\n",
       "└───────────┴───────────┴───────────┴───────────┴───┴───────────┴───────────┴───────────┴──────────┘"
      ]
     },
     "execution_count": 4,
     "metadata": {},
     "output_type": "execute_result"
    }
   ],
   "source": [
    "train_df.head()"
   ]
  },
  {
   "cell_type": "markdown",
   "metadata": {},
   "source": [
    "## Usefull info 🚀"
   ]
  },
  {
   "cell_type": "code",
   "execution_count": 5,
   "metadata": {},
   "outputs": [
    {
     "data": {
      "text/plain": [
       "Schema([('person_age', Int64),\n",
       "        ('person_income', Int64),\n",
       "        ('person_home_ownership', String),\n",
       "        ('person_emp_length', Float64),\n",
       "        ('loan_intent', String),\n",
       "        ('loan_grade', String),\n",
       "        ('loan_amnt', Int64),\n",
       "        ('loan_int_rate', Float64),\n",
       "        ('loan_percent_income', Float64),\n",
       "        ('cb_person_default_on_file', String),\n",
       "        ('cb_person_cred_hist_length', Int64),\n",
       "        ('loan_status', Int64)])"
      ]
     },
     "execution_count": 5,
     "metadata": {},
     "output_type": "execute_result"
    }
   ],
   "source": [
    "train_df.schema"
   ]
  },
  {
   "cell_type": "code",
   "execution_count": 6,
   "metadata": {},
   "outputs": [
    {
     "data": {
      "text/plain": [
       "person_age                   -0.001130\n",
       "person_income                -0.169956\n",
       "loan_amnt                     0.144982\n",
       "cb_person_cred_hist_length   -0.003030\n",
       "loan_status                   1.000000\n",
       "Name: loan_status, dtype: float64"
      ]
     },
     "execution_count": 6,
     "metadata": {},
     "output_type": "execute_result"
    }
   ],
   "source": [
    "train_df.to_pandas().select_dtypes('int', 'float').corr()['loan_status']"
   ]
  },
  {
   "cell_type": "code",
   "execution_count": 7,
   "metadata": {},
   "outputs": [
    {
     "data": {
      "text/html": [
       "<div><style>\n",
       ".dataframe > thead > tr,\n",
       ".dataframe > tbody > tr {\n",
       "  text-align: right;\n",
       "  white-space: pre-wrap;\n",
       "}\n",
       "</style>\n",
       "<small>shape: (1, 12)</small><table border=\"1\" class=\"dataframe\"><thead><tr><th>person_age</th><th>person_income</th><th>person_home_ownership</th><th>person_emp_length</th><th>loan_intent</th><th>loan_grade</th><th>loan_amnt</th><th>loan_int_rate</th><th>loan_percent_income</th><th>cb_person_default_on_file</th><th>cb_person_cred_hist_length</th><th>loan_status</th></tr><tr><td>u32</td><td>u32</td><td>u32</td><td>u32</td><td>u32</td><td>u32</td><td>u32</td><td>u32</td><td>u32</td><td>u32</td><td>u32</td><td>u32</td></tr></thead><tbody><tr><td>0</td><td>0</td><td>0</td><td>0</td><td>0</td><td>0</td><td>0</td><td>0</td><td>0</td><td>0</td><td>0</td><td>0</td></tr></tbody></table></div>"
      ],
      "text/plain": [
       "shape: (1, 12)\n",
       "┌───────────┬───────────┬───────────┬───────────┬───┬───────────┬───────────┬───────────┬──────────┐\n",
       "│ person_ag ┆ person_in ┆ person_ho ┆ person_em ┆ … ┆ loan_perc ┆ cb_person ┆ cb_person ┆ loan_sta │\n",
       "│ e         ┆ come      ┆ me_owners ┆ p_length  ┆   ┆ ent_incom ┆ _default_ ┆ _cred_his ┆ tus      │\n",
       "│ ---       ┆ ---       ┆ hip       ┆ ---       ┆   ┆ e         ┆ on_file   ┆ t_length  ┆ ---      │\n",
       "│ u32       ┆ u32       ┆ ---       ┆ u32       ┆   ┆ ---       ┆ ---       ┆ ---       ┆ u32      │\n",
       "│           ┆           ┆ u32       ┆           ┆   ┆ u32       ┆ u32       ┆ u32       ┆          │\n",
       "╞═══════════╪═══════════╪═══════════╪═══════════╪═══╪═══════════╪═══════════╪═══════════╪══════════╡\n",
       "│ 0         ┆ 0         ┆ 0         ┆ 0         ┆ … ┆ 0         ┆ 0         ┆ 0         ┆ 0        │\n",
       "└───────────┴───────────┴───────────┴───────────┴───┴───────────┴───────────┴───────────┴──────────┘"
      ]
     },
     "execution_count": 7,
     "metadata": {},
     "output_type": "execute_result"
    }
   ],
   "source": [
    "train_df.null_count()"
   ]
  },
  {
   "cell_type": "code",
   "execution_count": 19,
   "metadata": {},
   "outputs": [
    {
     "data": {
      "text/html": [
       "<div><style>\n",
       ".dataframe > thead > tr,\n",
       ".dataframe > tbody > tr {\n",
       "  text-align: right;\n",
       "  white-space: pre-wrap;\n",
       "}\n",
       "</style>\n",
       "<small>shape: (2, 1)</small><table border=\"1\" class=\"dataframe\"><thead><tr><th>loan_status</th></tr><tr><td>struct[2]</td></tr></thead><tbody><tr><td>{1,8350}</td></tr><tr><td>{0,50295}</td></tr></tbody></table></div>"
      ],
      "text/plain": [
       "shape: (2, 1)\n",
       "┌─────────────┐\n",
       "│ loan_status │\n",
       "│ ---         │\n",
       "│ struct[2]   │\n",
       "╞═════════════╡\n",
       "│ {1,8350}    │\n",
       "│ {0,50295}   │\n",
       "└─────────────┘"
      ]
     },
     "execution_count": 19,
     "metadata": {},
     "output_type": "execute_result"
    }
   ],
   "source": [
    "train_df.select(pl.col('loan_status').value_counts())"
   ]
  },
  {
   "cell_type": "code",
   "execution_count": 8,
   "metadata": {},
   "outputs": [
    {
     "data": {
      "text/html": [
       "<div><style>\n",
       ".dataframe > thead > tr,\n",
       ".dataframe > tbody > tr {\n",
       "  text-align: right;\n",
       "  white-space: pre-wrap;\n",
       "}\n",
       "</style>\n",
       "<small>shape: (4, 2)</small><table border=\"1\" class=\"dataframe\"><thead><tr><th>person_home_ownership</th><th>len</th></tr><tr><td>str</td><td>u32</td></tr></thead><tbody><tr><td>&quot;OWN&quot;</td><td>3138</td></tr><tr><td>&quot;RENT&quot;</td><td>30594</td></tr><tr><td>&quot;OTHER&quot;</td><td>89</td></tr><tr><td>&quot;MORTGAGE&quot;</td><td>24824</td></tr></tbody></table></div>"
      ],
      "text/plain": [
       "shape: (4, 2)\n",
       "┌───────────────────────┬───────┐\n",
       "│ person_home_ownership ┆ len   │\n",
       "│ ---                   ┆ ---   │\n",
       "│ str                   ┆ u32   │\n",
       "╞═══════════════════════╪═══════╡\n",
       "│ OWN                   ┆ 3138  │\n",
       "│ RENT                  ┆ 30594 │\n",
       "│ OTHER                 ┆ 89    │\n",
       "│ MORTGAGE              ┆ 24824 │\n",
       "└───────────────────────┴───────┘"
      ]
     },
     "execution_count": 8,
     "metadata": {},
     "output_type": "execute_result"
    }
   ],
   "source": [
    "train_df.group_by(\n",
    "    pl.col('person_home_ownership')\n",
    ").len()"
   ]
  },
  {
   "cell_type": "code",
   "execution_count": 9,
   "metadata": {},
   "outputs": [
    {
     "data": {
      "text/plain": [
       "<seaborn.axisgrid.FacetGrid at 0x710b6d553690>"
      ]
     },
     "execution_count": 9,
     "metadata": {},
     "output_type": "execute_result"
    },
    {
     "data": {
      "image/png": "[encoded data removed]",
      "text/plain": [
       "<Figure size 500x500 with 1 Axes>"
      ]
     },
     "metadata": {},
     "output_type": "display_data"
    }
   ],
   "source": [
    "sns.displot(\n",
    "    data=train_df, x='person_income',\n",
    "    log_scale=True, kde=True\n",
    ")"
   ]
  },
  {
   "cell_type": "code",
   "execution_count": 10,
   "metadata": {},
   "outputs": [
    {
     "data": {
      "text/plain": [
       "<seaborn.axisgrid.FacetGrid at 0x710b689f5710>"
      ]
     },
     "execution_count": 10,
     "metadata": {},
     "output_type": "execute_result"
    },
    {
     "data": {
      "text/plain": [
       "<Figure size 1200x600 with 0 Axes>"
      ]
     },
     "metadata": {},
     "output_type": "display_data"
    },
    {
     "data": {
      "image/png": "[encoded data removed]",
      "text/plain": [
       "<Figure size 607.097x500 with 1 Axes>"
      ]
     },
     "metadata": {},
     "output_type": "display_data"
    }
   ],
   "source": [
    "plt.figure(figsize=(12, 6))\n",
    "sns.catplot(\n",
    "    data=train_df, kind='bar',\n",
    "    x='person_home_ownership', y='person_age', \n",
    "    hue='loan_status'\n",
    ")"
   ]
  },
  {
   "cell_type": "code",
   "execution_count": 1,
   "metadata": {},
   "outputs": [
    {
     "ename": "NameError",
     "evalue": "name 'plt' is not defined",
     "output_type": "error",
     "traceback": [
      "\u001b[0;31m---------------------------------------------------------------------------\u001b[0m",
      "\u001b[0;31mNameError\u001b[0m                                 Traceback (most recent call last)",
      "Cell \u001b[0;32mIn[1], line 1\u001b[0m\n\u001b[0;32m----> 1\u001b[0m \u001b[43mplt\u001b[49m\u001b[38;5;241m.\u001b[39mfigure(figsize\u001b[38;5;241m=\u001b[39m(\u001b[38;5;241m12\u001b[39m, \u001b[38;5;241m6\u001b[39m))\n\u001b[1;32m      2\u001b[0m sns\u001b[38;5;241m.\u001b[39mrelplot(\n\u001b[1;32m      3\u001b[0m     data\u001b[38;5;241m=\u001b[39mtrain_df, x\u001b[38;5;241m=\u001b[39m\u001b[38;5;124m'\u001b[39m\u001b[38;5;124mperson_income\u001b[39m\u001b[38;5;124m'\u001b[39m, y\u001b[38;5;241m=\u001b[39m\u001b[38;5;124m'\u001b[39m\u001b[38;5;124mperson_age\u001b[39m\u001b[38;5;124m'\u001b[39m, hue\u001b[38;5;241m=\u001b[39m\u001b[38;5;124m'\u001b[39m\u001b[38;5;124mloan_status\u001b[39m\u001b[38;5;124m'\u001b[39m\n\u001b[1;32m      4\u001b[0m )\n",
      "\u001b[0;31mNameError\u001b[0m: name 'plt' is not defined"
     ]
    }
   ],
   "source": [
    "plt.figure(figsize=(12, 6))\n",
    "sns.relplot(\n",
    "    data=train_df, x='person_income', y='person_age', hue='loan_status'\n",
    ")"
   ]
  },
  {
   "cell_type": "markdown",
   "metadata": {},
   "source": [
    "## Check if we can add dataset"
   ]
  },
  {
   "cell_type": "code",
   "execution_count": 9,
   "metadata": {},
   "outputs": [
    {
     "data": {
      "text/html": [
       "<div><style>\n",
       ".dataframe > thead > tr,\n",
       ".dataframe > tbody > tr {\n",
       "  text-align: right;\n",
       "  white-space: pre-wrap;\n",
       "}\n",
       "</style>\n",
       "<small>shape: (5, 12)</small><table border=\"1\" class=\"dataframe\"><thead><tr><th>person_age</th><th>person_income</th><th>person_home_ownership</th><th>person_emp_length</th><th>loan_intent</th><th>loan_grade</th><th>loan_amnt</th><th>loan_int_rate</th><th>loan_status</th><th>loan_percent_income</th><th>cb_person_default_on_file</th><th>cb_person_cred_hist_length</th></tr><tr><td>i64</td><td>i64</td><td>str</td><td>f64</td><td>str</td><td>str</td><td>i64</td><td>f64</td><td>i64</td><td>f64</td><td>str</td><td>i64</td></tr></thead><tbody><tr><td>22</td><td>59000</td><td>&quot;RENT&quot;</td><td>123.0</td><td>&quot;PERSONAL&quot;</td><td>&quot;D&quot;</td><td>35000</td><td>16.02</td><td>1</td><td>0.59</td><td>&quot;Y&quot;</td><td>3</td></tr><tr><td>21</td><td>9600</td><td>&quot;OWN&quot;</td><td>5.0</td><td>&quot;EDUCATION&quot;</td><td>&quot;B&quot;</td><td>1000</td><td>11.14</td><td>0</td><td>0.1</td><td>&quot;N&quot;</td><td>2</td></tr><tr><td>25</td><td>9600</td><td>&quot;MORTGAGE&quot;</td><td>1.0</td><td>&quot;MEDICAL&quot;</td><td>&quot;C&quot;</td><td>5500</td><td>12.87</td><td>1</td><td>0.57</td><td>&quot;N&quot;</td><td>3</td></tr><tr><td>23</td><td>65500</td><td>&quot;RENT&quot;</td><td>4.0</td><td>&quot;MEDICAL&quot;</td><td>&quot;C&quot;</td><td>35000</td><td>15.23</td><td>1</td><td>0.53</td><td>&quot;N&quot;</td><td>2</td></tr><tr><td>24</td><td>54400</td><td>&quot;RENT&quot;</td><td>8.0</td><td>&quot;MEDICAL&quot;</td><td>&quot;C&quot;</td><td>35000</td><td>14.27</td><td>1</td><td>0.55</td><td>&quot;Y&quot;</td><td>4</td></tr></tbody></table></div>"
      ],
      "text/plain": [
       "shape: (5, 12)\n",
       "┌───────────┬───────────┬───────────┬───────────┬───┬───────────┬───────────┬───────────┬──────────┐\n",
       "│ person_ag ┆ person_in ┆ person_ho ┆ person_em ┆ … ┆ loan_stat ┆ loan_perc ┆ cb_person ┆ cb_perso │\n",
       "│ e         ┆ come      ┆ me_owners ┆ p_length  ┆   ┆ us        ┆ ent_incom ┆ _default_ ┆ n_cred_h │\n",
       "│ ---       ┆ ---       ┆ hip       ┆ ---       ┆   ┆ ---       ┆ e         ┆ on_file   ┆ ist_leng │\n",
       "│ i64       ┆ i64       ┆ ---       ┆ f64       ┆   ┆ i64       ┆ ---       ┆ ---       ┆ th       │\n",
       "│           ┆           ┆ str       ┆           ┆   ┆           ┆ f64       ┆ str       ┆ ---      │\n",
       "│           ┆           ┆           ┆           ┆   ┆           ┆           ┆           ┆ i64      │\n",
       "╞═══════════╪═══════════╪═══════════╪═══════════╪═══╪═══════════╪═══════════╪═══════════╪══════════╡\n",
       "│ 22        ┆ 59000     ┆ RENT      ┆ 123.0     ┆ … ┆ 1         ┆ 0.59      ┆ Y         ┆ 3        │\n",
       "│ 21        ┆ 9600      ┆ OWN       ┆ 5.0       ┆ … ┆ 0         ┆ 0.1       ┆ N         ┆ 2        │\n",
       "│ 25        ┆ 9600      ┆ MORTGAGE  ┆ 1.0       ┆ … ┆ 1         ┆ 0.57      ┆ N         ┆ 3        │\n",
       "│ 23        ┆ 65500     ┆ RENT      ┆ 4.0       ┆ … ┆ 1         ┆ 0.53      ┆ N         ┆ 2        │\n",
       "│ 24        ┆ 54400     ┆ RENT      ┆ 8.0       ┆ … ┆ 1         ┆ 0.55      ┆ Y         ┆ 4        │\n",
       "└───────────┴───────────┴───────────┴───────────┴───┴───────────┴───────────┴───────────┴──────────┘"
      ]
     },
     "execution_count": 9,
     "metadata": {},
     "output_type": "execute_result"
    }
   ],
   "source": [
    "original_dataset = pl.read_csv(folder_path / 'original_dataset.csv')\n",
    "original_dataset.head()"
   ]
  },
  {
   "cell_type": "code",
   "execution_count": 10,
   "metadata": {},
   "outputs": [
    {
     "data": {
      "text/html": [
       "<div><style>\n",
       ".dataframe > thead > tr,\n",
       ".dataframe > tbody > tr {\n",
       "  text-align: right;\n",
       "  white-space: pre-wrap;\n",
       "}\n",
       "</style>\n",
       "<small>shape: (5, 12)</small><table border=\"1\" class=\"dataframe\"><thead><tr><th>person_age</th><th>person_income</th><th>person_home_ownership</th><th>person_emp_length</th><th>loan_intent</th><th>loan_grade</th><th>loan_amnt</th><th>loan_int_rate</th><th>loan_percent_income</th><th>cb_person_default_on_file</th><th>cb_person_cred_hist_length</th><th>loan_status</th></tr><tr><td>i64</td><td>i64</td><td>str</td><td>f64</td><td>str</td><td>str</td><td>i64</td><td>f64</td><td>f64</td><td>str</td><td>i64</td><td>i64</td></tr></thead><tbody><tr><td>37</td><td>35000</td><td>&quot;RENT&quot;</td><td>0.0</td><td>&quot;EDUCATION&quot;</td><td>&quot;B&quot;</td><td>6000</td><td>11.49</td><td>0.17</td><td>&quot;N&quot;</td><td>14</td><td>0</td></tr><tr><td>22</td><td>56000</td><td>&quot;OWN&quot;</td><td>6.0</td><td>&quot;MEDICAL&quot;</td><td>&quot;C&quot;</td><td>4000</td><td>13.35</td><td>0.07</td><td>&quot;N&quot;</td><td>2</td><td>0</td></tr><tr><td>29</td><td>28800</td><td>&quot;OWN&quot;</td><td>8.0</td><td>&quot;PERSONAL&quot;</td><td>&quot;A&quot;</td><td>6000</td><td>8.9</td><td>0.21</td><td>&quot;N&quot;</td><td>10</td><td>0</td></tr><tr><td>30</td><td>70000</td><td>&quot;RENT&quot;</td><td>14.0</td><td>&quot;VENTURE&quot;</td><td>&quot;B&quot;</td><td>12000</td><td>11.11</td><td>0.17</td><td>&quot;N&quot;</td><td>5</td><td>0</td></tr><tr><td>22</td><td>60000</td><td>&quot;RENT&quot;</td><td>2.0</td><td>&quot;MEDICAL&quot;</td><td>&quot;A&quot;</td><td>6000</td><td>6.92</td><td>0.1</td><td>&quot;N&quot;</td><td>3</td><td>0</td></tr></tbody></table></div>"
      ],
      "text/plain": [
       "shape: (5, 12)\n",
       "┌───────────┬───────────┬───────────┬───────────┬───┬───────────┬───────────┬───────────┬──────────┐\n",
       "│ person_ag ┆ person_in ┆ person_ho ┆ person_em ┆ … ┆ loan_perc ┆ cb_person ┆ cb_person ┆ loan_sta │\n",
       "│ e         ┆ come      ┆ me_owners ┆ p_length  ┆   ┆ ent_incom ┆ _default_ ┆ _cred_his ┆ tus      │\n",
       "│ ---       ┆ ---       ┆ hip       ┆ ---       ┆   ┆ e         ┆ on_file   ┆ t_length  ┆ ---      │\n",
       "│ i64       ┆ i64       ┆ ---       ┆ f64       ┆   ┆ ---       ┆ ---       ┆ ---       ┆ i64      │\n",
       "│           ┆           ┆ str       ┆           ┆   ┆ f64       ┆ str       ┆ i64       ┆          │\n",
       "╞═══════════╪═══════════╪═══════════╪═══════════╪═══╪═══════════╪═══════════╪═══════════╪══════════╡\n",
       "│ 37        ┆ 35000     ┆ RENT      ┆ 0.0       ┆ … ┆ 0.17      ┆ N         ┆ 14        ┆ 0        │\n",
       "│ 22        ┆ 56000     ┆ OWN       ┆ 6.0       ┆ … ┆ 0.07      ┆ N         ┆ 2         ┆ 0        │\n",
       "│ 29        ┆ 28800     ┆ OWN       ┆ 8.0       ┆ … ┆ 0.21      ┆ N         ┆ 10        ┆ 0        │\n",
       "│ 30        ┆ 70000     ┆ RENT      ┆ 14.0      ┆ … ┆ 0.17      ┆ N         ┆ 5         ┆ 0        │\n",
       "│ 22        ┆ 60000     ┆ RENT      ┆ 2.0       ┆ … ┆ 0.1       ┆ N         ┆ 3         ┆ 0        │\n",
       "└───────────┴───────────┴───────────┴───────────┴───┴───────────┴───────────┴───────────┴──────────┘"
      ]
     },
     "execution_count": 10,
     "metadata": {},
     "output_type": "execute_result"
    }
   ],
   "source": [
    "train_df.head()"
   ]
  },
  {
   "cell_type": "code",
   "execution_count": 40,
   "metadata": {},
   "outputs": [
    {
     "data": {
      "text/html": [
       "<div><style>\n",
       ".dataframe > thead > tr,\n",
       ".dataframe > tbody > tr {\n",
       "  text-align: right;\n",
       "  white-space: pre-wrap;\n",
       "}\n",
       "</style>\n",
       "<small>shape: (91_226, 12)</small><table border=\"1\" class=\"dataframe\"><thead><tr><th>person_age</th><th>person_income</th><th>person_home_ownership</th><th>person_emp_length</th><th>loan_intent</th><th>loan_grade</th><th>loan_amnt</th><th>loan_int_rate</th><th>loan_status</th><th>loan_percent_income</th><th>cb_person_default_on_file</th><th>cb_person_cred_hist_length</th></tr><tr><td>i64</td><td>i64</td><td>str</td><td>f64</td><td>str</td><td>str</td><td>i64</td><td>f64</td><td>i64</td><td>f64</td><td>str</td><td>i64</td></tr></thead><tbody><tr><td>22</td><td>59000</td><td>&quot;RENT&quot;</td><td>123.0</td><td>&quot;PERSONAL&quot;</td><td>&quot;D&quot;</td><td>35000</td><td>16.02</td><td>1</td><td>0.59</td><td>&quot;Y&quot;</td><td>3</td></tr><tr><td>21</td><td>9600</td><td>&quot;OWN&quot;</td><td>5.0</td><td>&quot;EDUCATION&quot;</td><td>&quot;B&quot;</td><td>1000</td><td>11.14</td><td>0</td><td>0.1</td><td>&quot;N&quot;</td><td>2</td></tr><tr><td>25</td><td>9600</td><td>&quot;MORTGAGE&quot;</td><td>1.0</td><td>&quot;MEDICAL&quot;</td><td>&quot;C&quot;</td><td>5500</td><td>12.87</td><td>1</td><td>0.57</td><td>&quot;N&quot;</td><td>3</td></tr><tr><td>23</td><td>65500</td><td>&quot;RENT&quot;</td><td>4.0</td><td>&quot;MEDICAL&quot;</td><td>&quot;C&quot;</td><td>35000</td><td>15.23</td><td>1</td><td>0.53</td><td>&quot;N&quot;</td><td>2</td></tr><tr><td>24</td><td>54400</td><td>&quot;RENT&quot;</td><td>8.0</td><td>&quot;MEDICAL&quot;</td><td>&quot;C&quot;</td><td>35000</td><td>14.27</td><td>1</td><td>0.55</td><td>&quot;Y&quot;</td><td>4</td></tr><tr><td>&hellip;</td><td>&hellip;</td><td>&hellip;</td><td>&hellip;</td><td>&hellip;</td><td>&hellip;</td><td>&hellip;</td><td>&hellip;</td><td>&hellip;</td><td>&hellip;</td><td>&hellip;</td><td>&hellip;</td></tr><tr><td>34</td><td>120000</td><td>&quot;MORTGAGE&quot;</td><td>5.0</td><td>&quot;EDUCATION&quot;</td><td>&quot;D&quot;</td><td>25000</td><td>15.95</td><td>0</td><td>0.21</td><td>&quot;Y&quot;</td><td>10</td></tr><tr><td>28</td><td>28800</td><td>&quot;RENT&quot;</td><td>0.0</td><td>&quot;MEDICAL&quot;</td><td>&quot;C&quot;</td><td>10000</td><td>12.73</td><td>1</td><td>0.35</td><td>&quot;N&quot;</td><td>8</td></tr><tr><td>23</td><td>44000</td><td>&quot;RENT&quot;</td><td>7.0</td><td>&quot;EDUCATION&quot;</td><td>&quot;D&quot;</td><td>6800</td><td>16.0</td><td>1</td><td>0.15</td><td>&quot;N&quot;</td><td>2</td></tr><tr><td>22</td><td>30000</td><td>&quot;RENT&quot;</td><td>2.0</td><td>&quot;EDUCATION&quot;</td><td>&quot;A&quot;</td><td>5000</td><td>8.9</td><td>0</td><td>0.17</td><td>&quot;N&quot;</td><td>3</td></tr><tr><td>31</td><td>75000</td><td>&quot;MORTGAGE&quot;</td><td>2.0</td><td>&quot;VENTURE&quot;</td><td>&quot;B&quot;</td><td>15000</td><td>11.11</td><td>0</td><td>0.2</td><td>&quot;N&quot;</td><td>5</td></tr></tbody></table></div>"
      ],
      "text/plain": [
       "shape: (91_226, 12)\n",
       "┌───────────┬───────────┬───────────┬───────────┬───┬───────────┬───────────┬───────────┬──────────┐\n",
       "│ person_ag ┆ person_in ┆ person_ho ┆ person_em ┆ … ┆ loan_stat ┆ loan_perc ┆ cb_person ┆ cb_perso │\n",
       "│ e         ┆ come      ┆ me_owners ┆ p_length  ┆   ┆ us        ┆ ent_incom ┆ _default_ ┆ n_cred_h │\n",
       "│ ---       ┆ ---       ┆ hip       ┆ ---       ┆   ┆ ---       ┆ e         ┆ on_file   ┆ ist_leng │\n",
       "│ i64       ┆ i64       ┆ ---       ┆ f64       ┆   ┆ i64       ┆ ---       ┆ ---       ┆ th       │\n",
       "│           ┆           ┆ str       ┆           ┆   ┆           ┆ f64       ┆ str       ┆ ---      │\n",
       "│           ┆           ┆           ┆           ┆   ┆           ┆           ┆           ┆ i64      │\n",
       "╞═══════════╪═══════════╪═══════════╪═══════════╪═══╪═══════════╪═══════════╪═══════════╪══════════╡\n",
       "│ 22        ┆ 59000     ┆ RENT      ┆ 123.0     ┆ … ┆ 1         ┆ 0.59      ┆ Y         ┆ 3        │\n",
       "│ 21        ┆ 9600      ┆ OWN       ┆ 5.0       ┆ … ┆ 0         ┆ 0.1       ┆ N         ┆ 2        │\n",
       "│ 25        ┆ 9600      ┆ MORTGAGE  ┆ 1.0       ┆ … ┆ 1         ┆ 0.57      ┆ N         ┆ 3        │\n",
       "│ 23        ┆ 65500     ┆ RENT      ┆ 4.0       ┆ … ┆ 1         ┆ 0.53      ┆ N         ┆ 2        │\n",
       "│ 24        ┆ 54400     ┆ RENT      ┆ 8.0       ┆ … ┆ 1         ┆ 0.55      ┆ Y         ┆ 4        │\n",
       "│ …         ┆ …         ┆ …         ┆ …         ┆ … ┆ …         ┆ …         ┆ …         ┆ …        │\n",
       "│ 34        ┆ 120000    ┆ MORTGAGE  ┆ 5.0       ┆ … ┆ 0         ┆ 0.21      ┆ Y         ┆ 10       │\n",
       "│ 28        ┆ 28800     ┆ RENT      ┆ 0.0       ┆ … ┆ 1         ┆ 0.35      ┆ N         ┆ 8        │\n",
       "│ 23        ┆ 44000     ┆ RENT      ┆ 7.0       ┆ … ┆ 1         ┆ 0.15      ┆ N         ┆ 2        │\n",
       "│ 22        ┆ 30000     ┆ RENT      ┆ 2.0       ┆ … ┆ 0         ┆ 0.17      ┆ N         ┆ 3        │\n",
       "│ 31        ┆ 75000     ┆ MORTGAGE  ┆ 2.0       ┆ … ┆ 0         ┆ 0.2       ┆ N         ┆ 5        │\n",
       "└───────────┴───────────┴───────────┴───────────┴───┴───────────┴───────────┴───────────┴──────────┘"
      ]
     },
     "execution_count": 40,
     "metadata": {},
     "output_type": "execute_result"
    }
   ],
   "source": [
    "df_conc = pl.concat(\n",
    "    [\n",
    "        original_dataset,\n",
    "        train_df.select(pl.col(original_dataset.columns)),\n",
    "    ],\n",
    "    how='vertical'\n",
    ")\n",
    "df_conc"
   ]
  },
  {
   "cell_type": "code",
   "execution_count": 52,
   "metadata": {},
   "outputs": [],
   "source": [
    "df_conc_clear = df_conc.unique(pl.col('*'))"
   ]
  },
  {
   "cell_type": "code",
   "execution_count": 53,
   "metadata": {},
   "outputs": [],
   "source": [
    "from catboost import CatBoostClassifier, Pool\n",
    "from sklearn.metrics import roc_auc_score\n",
    "from sklearn.model_selection import StratifiedKFold\n",
    "from tqdm.notebook import tqdm"
   ]
  },
  {
   "cell_type": "code",
   "execution_count": 54,
   "metadata": {},
   "outputs": [],
   "source": [
    "X = df_conc_clear.drop('loan_status')\n",
    "y = df_conc_clear.select('loan_status')"
   ]
  },
  {
   "cell_type": "code",
   "execution_count": 55,
   "metadata": {},
   "outputs": [],
   "source": [
    "cat_features = X.select(pl.col(pl.String)).columns"
   ]
  },
  {
   "cell_type": "code",
   "execution_count": 57,
   "metadata": {},
   "outputs": [],
   "source": [
    "cv =StratifiedKFold()"
   ]
  },
  {
   "cell_type": "code",
   "execution_count": 58,
   "metadata": {},
   "outputs": [
    {
     "data": {
      "application/vnd.jupyter.widget-view+json": {
       "model_id": "81765c7ca59b416eb0a7c49572ac4ba0",
       "version_major": 2,
       "version_minor": 0
      },
      "text/plain": [
       "  0%|          | 0/5 [00:00<?, ?it/s]"
      ]
     },
     "metadata": {},
     "output_type": "display_data"
    },
    {
     "name": "stdout",
     "output_type": "stream",
     "text": [
      "0:\ttest: 0.8620903\tbest: 0.8620903 (0)\ttotal: 41.9ms\tremaining: 3m 29s\n",
      "500:\ttest: 0.9525656\tbest: 0.9525656 (500)\ttotal: 14s\tremaining: 2m 5s\n",
      "1000:\ttest: 0.9572028\tbest: 0.9572162 (984)\ttotal: 28.4s\tremaining: 1m 53s\n",
      "1500:\ttest: 0.9588638\tbest: 0.9588837 (1494)\ttotal: 43.1s\tremaining: 1m 40s\n",
      "2000:\ttest: 0.9596860\tbest: 0.9596867 (1998)\ttotal: 57.9s\tremaining: 1m 26s\n",
      "2500:\ttest: 0.9600206\tbest: 0.9600460 (2489)\ttotal: 1m 12s\tremaining: 1m 12s\n",
      "3000:\ttest: 0.9603689\tbest: 0.9604394 (2954)\ttotal: 1m 27s\tremaining: 58s\n",
      "Stopped by overfitting detector  (150 iterations wait)\n",
      "\n",
      "bestTest = 0.9604393868\n",
      "bestIteration = 2954\n",
      "\n",
      "Shrink model to first 2955 iterations.\n",
      "0:\ttest: 0.8617948\tbest: 0.8617948 (0)\ttotal: 43.3ms\tremaining: 3m 36s\n",
      "500:\ttest: 0.9522977\tbest: 0.9523044 (497)\ttotal: 13.8s\tremaining: 2m 3s\n",
      "1000:\ttest: 0.9559913\tbest: 0.9559930 (991)\ttotal: 28.2s\tremaining: 1m 52s\n",
      "1500:\ttest: 0.9574956\tbest: 0.9575140 (1492)\ttotal: 43.1s\tremaining: 1m 40s\n",
      "2000:\ttest: 0.9584263\tbest: 0.9584384 (1996)\ttotal: 58.3s\tremaining: 1m 27s\n",
      "2500:\ttest: 0.9589654\tbest: 0.9589747 (2486)\ttotal: 1m 13s\tremaining: 1m 13s\n",
      "Stopped by overfitting detector  (150 iterations wait)\n",
      "\n",
      "bestTest = 0.9591086053\n",
      "bestIteration = 2553\n",
      "\n",
      "Shrink model to first 2554 iterations.\n",
      "0:\ttest: 0.8561095\tbest: 0.8561095 (0)\ttotal: 40.1ms\tremaining: 3m 20s\n",
      "500:\ttest: 0.9505490\tbest: 0.9506097 (496)\ttotal: 14s\tremaining: 2m 6s\n",
      "1000:\ttest: 0.9549561\tbest: 0.9549675 (986)\ttotal: 28.8s\tremaining: 1m 54s\n",
      "1500:\ttest: 0.9570775\tbest: 0.9570829 (1498)\ttotal: 43.7s\tremaining: 1m 41s\n",
      "2000:\ttest: 0.9573913\tbest: 0.9574037 (1999)\ttotal: 58.8s\tremaining: 1m 28s\n",
      "Stopped by overfitting detector  (150 iterations wait)\n",
      "\n",
      "bestTest = 0.9574077736\n",
      "bestIteration = 2014\n",
      "\n",
      "Shrink model to first 2015 iterations.\n",
      "0:\ttest: 0.8557763\tbest: 0.8557763 (0)\ttotal: 40.5ms\tremaining: 3m 22s\n",
      "500:\ttest: 0.9515574\tbest: 0.9515602 (497)\ttotal: 13.6s\tremaining: 2m 2s\n",
      "1000:\ttest: 0.9563093\tbest: 0.9563093 (1000)\ttotal: 27.8s\tremaining: 1m 51s\n",
      "1500:\ttest: 0.9586245\tbest: 0.9586245 (1500)\ttotal: 42.2s\tremaining: 1m 38s\n",
      "2000:\ttest: 0.9597696\tbest: 0.9597696 (2000)\ttotal: 56.8s\tremaining: 1m 25s\n",
      "Stopped by overfitting detector  (150 iterations wait)\n",
      "\n",
      "bestTest = 0.9601335673\n",
      "bestIteration = 2222\n",
      "\n",
      "Shrink model to first 2223 iterations.\n",
      "0:\ttest: 0.8768932\tbest: 0.8768932 (0)\ttotal: 49.6ms\tremaining: 4m 7s\n",
      "500:\ttest: 0.9503267\tbest: 0.9503388 (498)\ttotal: 13.7s\tremaining: 2m 3s\n",
      "1000:\ttest: 0.9534873\tbest: 0.9534970 (996)\ttotal: 27.7s\tremaining: 1m 50s\n",
      "1500:\ttest: 0.9549025\tbest: 0.9549342 (1462)\ttotal: 42.1s\tremaining: 1m 38s\n",
      "2000:\ttest: 0.9555275\tbest: 0.9555369 (1998)\ttotal: 56.7s\tremaining: 1m 24s\n",
      "Stopped by overfitting detector  (150 iterations wait)\n",
      "\n",
      "bestTest = 0.9556725071\n",
      "bestIteration = 2039\n",
      "\n",
      "Shrink model to first 2040 iterations.\n",
      "All metrics: [0.9604393868025521, 0.9591086052681601, 0.9574077736309032, 0.9601335672602171, 0.9556725071019125]\n",
      "Mean ROC-AUC: 0.9567649606152994\n"
     ]
    }
   ],
   "source": [
    "models_list = []\n",
    "metrics_list = []\n",
    "\n",
    "pbar = tqdm(cv.split(X, y), total=cv.get_n_splits())\n",
    "for train_idx, test_idx, in pbar:\n",
    "    X_train, X_test = X[train_idx], X[test_idx]\n",
    "    y_train, y_test = y[train_idx], y[test_idx]\n",
    "\n",
    "    train_pool = Pool(X_train.to_pandas(), y_train.to_pandas(), cat_features=cat_features)\n",
    "    test_pool = Pool(X_test.to_pandas(), y_test.to_pandas(), cat_features=cat_features)\n",
    "\n",
    "    model = CatBoostClassifier(\n",
    "        iterations=5000, \n",
    "        learning_rate=0.05,\n",
    "        eval_metric='AUC',\n",
    "        loss_function='Logloss',\n",
    "        random_seed=2024\n",
    "    )\n",
    "\n",
    "    model.fit(\n",
    "        train_pool, \n",
    "        eval_set=test_pool,\n",
    "        early_stopping_rounds=150,\n",
    "        verbose=500\n",
    "    )\n",
    "\n",
    "    y_pred = model.predict_proba(X_test.to_pandas())[:, 1]\n",
    "    score = roc_auc_score(y_test, y_pred)\n",
    "    pbar.set_description(f'ROC-AUC: {score:.4f}')\n",
    "\n",
    "    models_list.append(model)\n",
    "    metrics_list.append(score)\n",
    "\n",
    "print(f'All metrics: {metrics_list}')\n",
    "print(f'Mean ROC-AUC: {np.mean(metrics_list) - np.std(metrics_list)}')"
   ]
  },
  {
   "attachments": {
    "image.png": {
     "image/png": "[encoded data removed]"
    }
   },
   "cell_type": "markdown",
   "metadata": {},
   "source": [
    "![image.png](attachment:image.png)"
   ]
  },
  {
   "cell_type": "code",
   "execution_count": 67,
   "metadata": {},
   "outputs": [],
   "source": [
    "df_conc_clear.write_csv('../data/concated.csv')"
   ]
  },
  {
   "cell_type": "markdown",
   "metadata": {},
   "source": [
    "## Weighted prediction?"
   ]
  },
  {
   "cell_type": "code",
   "execution_count": 61,
   "metadata": {},
   "outputs": [
    {
     "data": {
      "text/plain": [
       "[0.20039372262857483,\n",
       " 0.200116057770858,\n",
       " 0.19976118271259008,\n",
       " 0.2003299140037067,\n",
       " 0.19939912288427036]"
      ]
     },
     "execution_count": 61,
     "metadata": {},
     "output_type": "execute_result"
    }
   ],
   "source": [
    "weights = [weight / np.sum(metrics_list) for weight in metrics_list]\n",
    "weights"
   ]
  },
  {
   "cell_type": "code",
   "execution_count": 62,
   "metadata": {},
   "outputs": [],
   "source": [
    "y_subm = np.zeros(sample_df.shape[0])"
   ]
  },
  {
   "cell_type": "code",
   "execution_count": 63,
   "metadata": {},
   "outputs": [
    {
     "data": {
      "application/vnd.jupyter.widget-view+json": {
       "model_id": "733c3187f44f4afd9166429f92b05e9c",
       "version_major": 2,
       "version_minor": 0
      },
      "text/plain": [
       "  0%|          | 0/5 [00:00<?, ?it/s]"
      ]
     },
     "metadata": {},
     "output_type": "display_data"
    },
    {
     "data": {
      "text/plain": [
       "array([0.9997503 , 0.04080181, 0.52977795, ..., 0.00795868, 0.2047507 ,\n",
       "       0.96876357])"
      ]
     },
     "execution_count": 63,
     "metadata": {},
     "output_type": "execute_result"
    }
   ],
   "source": [
    "for model, weight in tqdm(zip(models_list, weights), total=len(weights)):\n",
    "    y_pred = model.predict_proba(test_df.to_pandas())[:, 1] * weight\n",
    "    y_subm += y_pred\n",
    "y_subm"
   ]
  },
  {
   "cell_type": "code",
   "execution_count": 64,
   "metadata": {},
   "outputs": [],
   "source": [
    "sample_df = sample_df.with_columns(loan_status = y_subm)"
   ]
  },
  {
   "cell_type": "code",
   "execution_count": 65,
   "metadata": {},
   "outputs": [],
   "source": [
    "folder_save = Path('../subs')"
   ]
  },
  {
   "cell_type": "code",
   "execution_count": 66,
   "metadata": {},
   "outputs": [],
   "source": [
    "sample_df.write_csv(folder_save / 'cleared_dataset_weigted_predict.csv')"
   ]
  },
  {
   "cell_type": "code",
   "execution_count": null,
   "metadata": {},
   "outputs": [],
   "source": []
  }
 ],
 "metadata": {
  "kernelspec": {
   "display_name": "venv",
   "language": "python",
   "name": "python3"
  },
  "language_info": {
   "codemirror_mode": {
    "name": "ipython",
    "version": 3
   },
   "file_extension": ".py",
   "mimetype": "text/x-python",
   "name": "python",
   "nbconvert_exporter": "python",
   "pygments_lexer": "ipython3",
   "version": "3.11.8"
  }
 },
 "nbformat": 4,
 "nbformat_minor": 2
}
