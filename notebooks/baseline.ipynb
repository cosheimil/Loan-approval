{
 "cells": [
  {
   "cell_type": "markdown",
   "metadata": {},
   "source": [
    "# Libraries 👨‍🏫"
   ]
  },
  {
   "cell_type": "code",
   "execution_count": 23,
   "metadata": {},
   "outputs": [],
   "source": [
    "# Data\n",
    "import polars as pl\n",
    "import numpy as np\n",
    "\n",
    "# ML\n",
    "from catboost import CatBoostClassifier, Pool\n",
    "from sklearn.model_selection import StratifiedKFold\n",
    "from sklearn.metrics import roc_auc_score\n",
    "\n",
    "# Tools\n",
    "from pathlib import Path\n",
    "from tqdm.notebook import tqdm"
   ]
  },
  {
   "cell_type": "markdown",
   "metadata": {},
   "source": [
    "# Data 🤹‍♀️"
   ]
  },
  {
   "cell_type": "markdown",
   "metadata": {},
   "source": [
    "## Load ur data 📦"
   ]
  },
  {
   "cell_type": "code",
   "execution_count": 2,
   "metadata": {},
   "outputs": [],
   "source": [
    "folder_path = Path('../data/')"
   ]
  },
  {
   "cell_type": "code",
   "execution_count": 41,
   "metadata": {},
   "outputs": [],
   "source": [
    "train_df = pl.read_csv(folder_path / 'train.csv').drop('id')\n",
    "test_df = pl.read_csv(folder_path / 'test.csv').drop('id')\n",
    "sample_df = pl.read_csv(folder_path / 'sample_submission.csv')"
   ]
  },
  {
   "cell_type": "code",
   "execution_count": 4,
   "metadata": {},
   "outputs": [
    {
     "data": {
      "text/html": [
       "<div><style>\n",
       ".dataframe > thead > tr,\n",
       ".dataframe > tbody > tr {\n",
       "  text-align: right;\n",
       "  white-space: pre-wrap;\n",
       "}\n",
       "</style>\n",
       "<small>shape: (5, 12)</small><table border=\"1\" class=\"dataframe\"><thead><tr><th>person_age</th><th>person_income</th><th>person_home_ownership</th><th>person_emp_length</th><th>loan_intent</th><th>loan_grade</th><th>loan_amnt</th><th>loan_int_rate</th><th>loan_percent_income</th><th>cb_person_default_on_file</th><th>cb_person_cred_hist_length</th><th>loan_status</th></tr><tr><td>i64</td><td>i64</td><td>str</td><td>f64</td><td>str</td><td>str</td><td>i64</td><td>f64</td><td>f64</td><td>str</td><td>i64</td><td>i64</td></tr></thead><tbody><tr><td>37</td><td>35000</td><td>&quot;RENT&quot;</td><td>0.0</td><td>&quot;EDUCATION&quot;</td><td>&quot;B&quot;</td><td>6000</td><td>11.49</td><td>0.17</td><td>&quot;N&quot;</td><td>14</td><td>0</td></tr><tr><td>22</td><td>56000</td><td>&quot;OWN&quot;</td><td>6.0</td><td>&quot;MEDICAL&quot;</td><td>&quot;C&quot;</td><td>4000</td><td>13.35</td><td>0.07</td><td>&quot;N&quot;</td><td>2</td><td>0</td></tr><tr><td>29</td><td>28800</td><td>&quot;OWN&quot;</td><td>8.0</td><td>&quot;PERSONAL&quot;</td><td>&quot;A&quot;</td><td>6000</td><td>8.9</td><td>0.21</td><td>&quot;N&quot;</td><td>10</td><td>0</td></tr><tr><td>30</td><td>70000</td><td>&quot;RENT&quot;</td><td>14.0</td><td>&quot;VENTURE&quot;</td><td>&quot;B&quot;</td><td>12000</td><td>11.11</td><td>0.17</td><td>&quot;N&quot;</td><td>5</td><td>0</td></tr><tr><td>22</td><td>60000</td><td>&quot;RENT&quot;</td><td>2.0</td><td>&quot;MEDICAL&quot;</td><td>&quot;A&quot;</td><td>6000</td><td>6.92</td><td>0.1</td><td>&quot;N&quot;</td><td>3</td><td>0</td></tr></tbody></table></div>"
      ],
      "text/plain": [
       "shape: (5, 12)\n",
       "┌───────────┬───────────┬───────────┬───────────┬───┬───────────┬───────────┬───────────┬──────────┐\n",
       "│ person_ag ┆ person_in ┆ person_ho ┆ person_em ┆ … ┆ loan_perc ┆ cb_person ┆ cb_person ┆ loan_sta │\n",
       "│ e         ┆ come      ┆ me_owners ┆ p_length  ┆   ┆ ent_incom ┆ _default_ ┆ _cred_his ┆ tus      │\n",
       "│ ---       ┆ ---       ┆ hip       ┆ ---       ┆   ┆ e         ┆ on_file   ┆ t_length  ┆ ---      │\n",
       "│ i64       ┆ i64       ┆ ---       ┆ f64       ┆   ┆ ---       ┆ ---       ┆ ---       ┆ i64      │\n",
       "│           ┆           ┆ str       ┆           ┆   ┆ f64       ┆ str       ┆ i64       ┆          │\n",
       "╞═══════════╪═══════════╪═══════════╪═══════════╪═══╪═══════════╪═══════════╪═══════════╪══════════╡\n",
       "│ 37        ┆ 35000     ┆ RENT      ┆ 0.0       ┆ … ┆ 0.17      ┆ N         ┆ 14        ┆ 0        │\n",
       "│ 22        ┆ 56000     ┆ OWN       ┆ 6.0       ┆ … ┆ 0.07      ┆ N         ┆ 2         ┆ 0        │\n",
       "│ 29        ┆ 28800     ┆ OWN       ┆ 8.0       ┆ … ┆ 0.21      ┆ N         ┆ 10        ┆ 0        │\n",
       "│ 30        ┆ 70000     ┆ RENT      ┆ 14.0      ┆ … ┆ 0.17      ┆ N         ┆ 5         ┆ 0        │\n",
       "│ 22        ┆ 60000     ┆ RENT      ┆ 2.0       ┆ … ┆ 0.1       ┆ N         ┆ 3         ┆ 0        │\n",
       "└───────────┴───────────┴───────────┴───────────┴───┴───────────┴───────────┴───────────┴──────────┘"
      ]
     },
     "execution_count": 4,
     "metadata": {},
     "output_type": "execute_result"
    }
   ],
   "source": [
    "train_df.head()"
   ]
  },
  {
   "cell_type": "markdown",
   "metadata": {},
   "source": [
    "# ML 🦾"
   ]
  },
  {
   "cell_type": "code",
   "execution_count": 5,
   "metadata": {},
   "outputs": [],
   "source": [
    "X = train_df.drop('loan_status')\n",
    "y = train_df.select('loan_status')"
   ]
  },
  {
   "cell_type": "code",
   "execution_count": 6,
   "metadata": {},
   "outputs": [],
   "source": [
    "cat_features = train_df.select(pl.col(pl.String)).columns"
   ]
  },
  {
   "cell_type": "code",
   "execution_count": 7,
   "metadata": {},
   "outputs": [],
   "source": [
    "cv = StratifiedKFold()"
   ]
  },
  {
   "cell_type": "code",
   "execution_count": 1,
   "metadata": {},
   "outputs": [
    {
     "ename": "NameError",
     "evalue": "name 'tqdm' is not defined",
     "output_type": "error",
     "traceback": [
      "\u001b[0;31m---------------------------------------------------------------------------\u001b[0m",
      "\u001b[0;31mNameError\u001b[0m                                 Traceback (most recent call last)",
      "Cell \u001b[0;32mIn[1], line 4\u001b[0m\n\u001b[1;32m      1\u001b[0m models_list \u001b[38;5;241m=\u001b[39m []\n\u001b[1;32m      2\u001b[0m metrics_list \u001b[38;5;241m=\u001b[39m []\n\u001b[0;32m----> 4\u001b[0m pbar \u001b[38;5;241m=\u001b[39m \u001b[43mtqdm\u001b[49m(cv\u001b[38;5;241m.\u001b[39msplit(X, y), total\u001b[38;5;241m=\u001b[39mcv\u001b[38;5;241m.\u001b[39mget_n_splits())\n\u001b[1;32m      5\u001b[0m \u001b[38;5;28;01mfor\u001b[39;00m train_idx, test_idx, \u001b[38;5;129;01min\u001b[39;00m pbar:\n\u001b[1;32m      6\u001b[0m     X_train, X_test \u001b[38;5;241m=\u001b[39m X[train_idx], X[test_idx]\n",
      "\u001b[0;31mNameError\u001b[0m: name 'tqdm' is not defined"
     ]
    }
   ],
   "source": [
    "models_list = []\n",
    "metrics_list = []\n",
    "\n",
    "pbar = tqdm(cv.split(X, y), total=cv.get_n_splits())\n",
    "for train_idx, test_idx, in pbar:\n",
    "    X_train, X_test = X[train_idx], X[test_idx]\n",
    "    y_train, y_test = y[train_idx], y[test_idx]\n",
    "\n",
    "    train_pool = Pool(X_train.to_pandas(), y_train.to_pandas(), cat_features=cat_features)\n",
    "    test_pool = Pool(X_test.to_pandas(), y_test.to_pandas(), cat_features=cat_features)\n",
    "\n",
    "    model = CatBoostClassifier(\n",
    "        iterations=5000, \n",
    "        learning_rate=0.05,\n",
    "        eval_metric='AUC',\n",
    "        loss_function='CrossEntropy',\n",
    "        random_seed=2024\n",
    "    )\n",
    "\n",
    "    model.fit(\n",
    "        train_pool, \n",
    "        eval_set=test_pool,\n",
    "        early_stopping_rounds=150,\n",
    "        verbose=500\n",
    "    )\n",
    "\n",
    "    y_pred = model.predict_proba(X_test.to_pandas())[:, 1]\n",
    "    score = roc_auc_score(y_test, y_pred)\n",
    "    pbar.set_description(f'ROC-AUC: {score:.4f}')\n",
    "\n",
    "    models_list.append(model)\n",
    "    metrics_list.append(score)\n",
    "\n",
    "print(f'All metrics: {metrics_list}')\n",
    "print(f'Mean ROC-AUC: {np.mean(metrics_list) - np.std(metrics_list)}')"
   ]
  },
  {
   "cell_type": "markdown",
   "metadata": {},
   "source": [
    "# Submission 🤖"
   ]
  },
  {
   "cell_type": "code",
   "execution_count": 42,
   "metadata": {},
   "outputs": [],
   "source": [
    "y_subm = np.zeros(sample_df.shape[0])"
   ]
  },
  {
   "cell_type": "code",
   "execution_count": 43,
   "metadata": {},
   "outputs": [
    {
     "data": {
      "application/vnd.jupyter.widget-view+json": {
       "model_id": "d0af75a9fab84063b70ef80d563e4814",
       "version_major": 2,
       "version_minor": 0
      },
      "text/plain": [
       "  0%|          | 0/5 [00:00<?, ?it/s]"
      ]
     },
     "metadata": {},
     "output_type": "display_data"
    },
    {
     "data": {
      "text/plain": [
       "array([0.99885418, 0.02028319, 0.60540859, ..., 0.00651037, 0.1138485 ,\n",
       "       0.95386074])"
      ]
     },
     "execution_count": 43,
     "metadata": {},
     "output_type": "execute_result"
    }
   ],
   "source": [
    "for model in tqdm(models_list):\n",
    "    y_pred = model.predict_proba(test_df.to_pandas())[:, 1]\n",
    "    y_subm += y_pred\n",
    "y_subm /= len(models_list)\n",
    "y_subm"
   ]
  },
  {
   "cell_type": "code",
   "execution_count": 48,
   "metadata": {},
   "outputs": [],
   "source": [
    "sample_df = sample_df.with_columns(loan_status = y_subm)"
   ]
  },
  {
   "cell_type": "code",
   "execution_count": 49,
   "metadata": {},
   "outputs": [],
   "source": [
    "folder_save = Path('../subs')"
   ]
  },
  {
   "cell_type": "code",
   "execution_count": 50,
   "metadata": {},
   "outputs": [],
   "source": [
    "sample_df.write_csv(folder_save / 'baseline.csv')"
   ]
  },
  {
   "cell_type": "code",
   "execution_count": null,
   "metadata": {},
   "outputs": [],
   "source": []
  }
 ],
 "metadata": {
  "kernelspec": {
   "display_name": "venv",
   "language": "python",
   "name": "python3"
  },
  "language_info": {
   "codemirror_mode": {
    "name": "ipython",
    "version": 3
   },
   "file_extension": ".py",
   "mimetype": "text/x-python",
   "name": "python",
   "nbconvert_exporter": "python",
   "pygments_lexer": "ipython3",
   "version": "3.11.8"
  }
 },
 "nbformat": 4,
 "nbformat_minor": 2
}
